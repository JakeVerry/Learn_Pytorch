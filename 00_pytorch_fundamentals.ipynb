{
 "cells": [
  {
   "cell_type": "markdown",
   "metadata": {},
   "source": [
    "## Tensor Data types (Attributes)\n",
    "**Note**: Tensor data types is one of the 3 big errors you'll run into with Pytorch & deep learning\n",
    "1. Tensors are not the right **datatype**\n",
    "2. Tensors are not the right **shape**\n",
    "3. Tensors are not on the right **device**\n"
   ]
  },
  {
   "cell_type": "code",
   "execution_count": 11,
   "metadata": {},
   "outputs": [],
   "source": [
    "import torch\n",
    "import numpy as np\n",
    "import pandas as pd"
   ]
  },
  {
   "cell_type": "code",
   "execution_count": 12,
   "metadata": {},
   "outputs": [
    {
     "data": {
      "text/plain": [
       "tensor([ 1.,  4.,  9., 16., 25.], dtype=torch.float16)"
      ]
     },
     "execution_count": 12,
     "metadata": {},
     "output_type": "execute_result"
    }
   ],
   "source": [
    "int_16_tensor = torch.tensor([1, 2, 3, 4, 5],\n",
    "                             dtype=torch.int16)\n",
    "\n",
    "float_16_tensor = torch.tensor([1, 2, 3, 4, 5],\n",
    "                                 dtype=torch.float16)\n",
    "\n",
    "int_16_tensor * float_16_tensor"
   ]
  },
  {
   "cell_type": "markdown",
   "metadata": {},
   "source": [
    "## Getting Information from Tensors\n",
    "1. Tensors are not the right **datatype** - to get datatype from a tensor, use tensor.dtype\n",
    "2. Tensors are not the right **shape** to get shape from a tensor, use tensor.shape\n",
    "3. Tensors are not on the right **device** to get the device from a tensor, use tensor.device"
   ]
  },
  {
   "cell_type": "code",
   "execution_count": 13,
   "metadata": {},
   "outputs": [
    {
     "data": {
      "text/plain": [
       "tensor([[0.1582, 0.6895, 0.3989, 0.9146, 0.7212],\n",
       "        [0.7266, 0.8242, 0.0562, 0.2134, 0.7822],\n",
       "        [0.5078, 0.9985, 0.6650, 0.3745, 0.4893],\n",
       "        [0.2568, 0.6753, 0.8589, 0.4648, 0.5972],\n",
       "        [0.5649, 0.0337, 0.6328, 0.8418, 0.3823]], dtype=torch.float16)"
      ]
     },
     "execution_count": 13,
     "metadata": {},
     "output_type": "execute_result"
    }
   ],
   "source": [
    "rand_tensor = rand_tensor = torch.rand([5, 5],\n",
    "                                       dtype=torch.float16\n",
    "                                       )\n",
    "rand_tensor"
   ]
  },
  {
   "cell_type": "code",
   "execution_count": 14,
   "metadata": {},
   "outputs": [
    {
     "name": "stdout",
     "output_type": "stream",
     "text": [
      "tensor([[0.1582, 0.6895, 0.3989, 0.9146, 0.7212],\n",
      "        [0.7266, 0.8242, 0.0562, 0.2134, 0.7822],\n",
      "        [0.5078, 0.9985, 0.6650, 0.3745, 0.4893],\n",
      "        [0.2568, 0.6753, 0.8589, 0.4648, 0.5972],\n",
      "        [0.5649, 0.0337, 0.6328, 0.8418, 0.3823]], dtype=torch.float16)\n",
      "torch.Size([5, 5])\n",
      "torch.float16\n",
      "cpu\n"
     ]
    }
   ],
   "source": [
    "# Find out some data from a tensor\n",
    "print(rand_tensor)\n",
    "print(rand_tensor.shape)\n",
    "print(rand_tensor.dtype)\n",
    "print(rand_tensor.device)"
   ]
  },
  {
   "cell_type": "markdown",
   "metadata": {},
   "source": [
    "## Manipulating Tensors\n",
    "Tensor operation include:\n",
    "1. Addition\n",
    "2. Subtraction\n",
    "3. Multiplication\n",
    "4. Division\n",
    "5. Matrix Multiplication\n"
   ]
  },
  {
   "cell_type": "code",
   "execution_count": 15,
   "metadata": {},
   "outputs": [
    {
     "name": "stdout",
     "output_type": "stream",
     "text": [
      "tensor([21, 22, 23, 24, 25])\n",
      "tensor([1, 2, 3, 4, 5])\n"
     ]
    }
   ],
   "source": [
    "# Addition\n",
    "\n",
    "from torch import tensor\n",
    "\n",
    "\n",
    "add_tensor = torch.tensor([1, 2, 3, 4, 5])\n",
    "print(add_tensor + 20)\n",
    "print(add_tensor)"
   ]
  },
  {
   "cell_type": "code",
   "execution_count": 16,
   "metadata": {},
   "outputs": [
    {
     "data": {
      "text/plain": [
       "tensor([10, 20, 30, 40, 50])"
      ]
     },
     "execution_count": 16,
     "metadata": {},
     "output_type": "execute_result"
    }
   ],
   "source": [
    "# Multiplication\n",
    "mul_tensor = torch.tensor([1, 2, 3, 4, 5])\n",
    "mul_tensor *= 10\n",
    "mul_tensor"
   ]
  },
  {
   "cell_type": "code",
   "execution_count": 17,
   "metadata": {},
   "outputs": [
    {
     "data": {
      "text/plain": [
       "tensor([-9, -8, -7, -6, -5])"
      ]
     },
     "execution_count": 17,
     "metadata": {},
     "output_type": "execute_result"
    }
   ],
   "source": [
    "# Subtraction\n",
    "sub_tensor = torch.tensor([1, 2, 3, 4, 5])\n",
    "sub_tensor -= 10\n",
    "sub_tensor"
   ]
  },
  {
   "cell_type": "code",
   "execution_count": 18,
   "metadata": {},
   "outputs": [
    {
     "data": {
      "text/plain": [
       "tensor([10, 20, 30, 40, 50])"
      ]
     },
     "execution_count": 18,
     "metadata": {},
     "output_type": "execute_result"
    }
   ],
   "source": [
    "# Try out pytorch inbuilt functions\n",
    "torch.mul(add_tensor, 10)"
   ]
  },
  {
   "cell_type": "markdown",
   "metadata": {},
   "source": [
    "## Matrix Multiplication\n",
    "Two main ways of performing multiplication in neural networks and deep learning\n",
    "1. Element-wise\n",
    "2. Matrix Multiplication (dot-product)\n",
    "\n",
    "There are two main rules when performing matrix multiplication:\n",
    "1. The **inner dimensions** must match:\n",
    "* `(3,2) @ (3,2)` won't work\n",
    "* `(2,3) @ (3,2)` will work!\n",
    "* `(3,2) @ (2,3)` will work!\n",
    "\n",
    "2. The resulting matrix has the shape of the **outer dimensions**\n",
    "* `(2,3) @ (3,2)` resulting shape is 2x2\n",
    "* `(3,2) @ (2,3)` resulting shape is 3x3\n",
    "\n",
    "\n"
   ]
  },
  {
   "cell_type": "code",
   "execution_count": 19,
   "metadata": {},
   "outputs": [
    {
     "name": "stdout",
     "output_type": "stream",
     "text": [
      "tensor([1, 2, 3, 4, 5]) * tensor([1, 2, 3, 4, 5])\n"
     ]
    },
    {
     "data": {
      "text/plain": [
       "tensor([ 1,  4,  9, 16, 25])"
      ]
     },
     "execution_count": 19,
     "metadata": {},
     "output_type": "execute_result"
    }
   ],
   "source": [
    "print(add_tensor, \"*\", add_tensor)\n",
    "torch.mul(add_tensor, add_tensor)"
   ]
  },
  {
   "cell_type": "markdown",
   "metadata": {},
   "source": [
    "#### One of the most common areas in deep learning: shape errors"
   ]
  },
  {
   "cell_type": "code",
   "execution_count": 20,
   "metadata": {},
   "outputs": [
    {
     "ename": "RuntimeError",
     "evalue": "mat1 and mat2 shapes cannot be multiplied (3x2 and 3x2)",
     "output_type": "error",
     "traceback": [
      "\u001b[1;31m---------------------------------------------------------------------------\u001b[0m",
      "\u001b[1;31mRuntimeError\u001b[0m                              Traceback (most recent call last)",
      "\u001b[1;32mc:\\Users\\jakev\\Code\\Learn_Pytorch\\00_pytorch_fundamentals.ipynb Cell 15\u001b[0m line \u001b[0;36m1\n\u001b[0;32m      <a href='vscode-notebook-cell:/c%3A/Users/jakev/Code/Learn_Pytorch/00_pytorch_fundamentals.ipynb#X20sZmlsZQ%3D%3D?line=1'>2</a>\u001b[0m tensor_a \u001b[39m=\u001b[39m torch\u001b[39m.\u001b[39mtensor([[\u001b[39m1\u001b[39m,\u001b[39m2\u001b[39m],\n\u001b[0;32m      <a href='vscode-notebook-cell:/c%3A/Users/jakev/Code/Learn_Pytorch/00_pytorch_fundamentals.ipynb#X20sZmlsZQ%3D%3D?line=2'>3</a>\u001b[0m                          [\u001b[39m3\u001b[39m,\u001b[39m4\u001b[39m],\n\u001b[0;32m      <a href='vscode-notebook-cell:/c%3A/Users/jakev/Code/Learn_Pytorch/00_pytorch_fundamentals.ipynb#X20sZmlsZQ%3D%3D?line=3'>4</a>\u001b[0m                          [\u001b[39m5\u001b[39m,\u001b[39m6\u001b[39m]])\n\u001b[0;32m      <a href='vscode-notebook-cell:/c%3A/Users/jakev/Code/Learn_Pytorch/00_pytorch_fundamentals.ipynb#X20sZmlsZQ%3D%3D?line=5'>6</a>\u001b[0m tensor_b \u001b[39m=\u001b[39m torch\u001b[39m.\u001b[39mtensor([[\u001b[39m7\u001b[39m,\u001b[39m10\u001b[39m],\n\u001b[0;32m      <a href='vscode-notebook-cell:/c%3A/Users/jakev/Code/Learn_Pytorch/00_pytorch_fundamentals.ipynb#X20sZmlsZQ%3D%3D?line=6'>7</a>\u001b[0m                         [\u001b[39m8\u001b[39m,\u001b[39m11\u001b[39m],\n\u001b[0;32m      <a href='vscode-notebook-cell:/c%3A/Users/jakev/Code/Learn_Pytorch/00_pytorch_fundamentals.ipynb#X20sZmlsZQ%3D%3D?line=7'>8</a>\u001b[0m                         [\u001b[39m9\u001b[39m,\u001b[39m12\u001b[39m]])\n\u001b[1;32m---> <a href='vscode-notebook-cell:/c%3A/Users/jakev/Code/Learn_Pytorch/00_pytorch_fundamentals.ipynb#X20sZmlsZQ%3D%3D?line=9'>10</a>\u001b[0m torch\u001b[39m.\u001b[39;49mmm(tensor_a, tensor_b)\n",
      "\u001b[1;31mRuntimeError\u001b[0m: mat1 and mat2 shapes cannot be multiplied (3x2 and 3x2)"
     ]
    }
   ],
   "source": [
    "# Shapes for matrix multiplication\n",
    "tensor_a = torch.tensor([[1,2],\n",
    "                         [3,4],\n",
    "                         [5,6]])\n",
    "\n",
    "tensor_b = torch.tensor([[7,10],\n",
    "                        [8,11],\n",
    "                        [9,12]])\n",
    "\n",
    "torch.mm(tensor_a, tensor_b)"
   ]
  },
  {
   "cell_type": "markdown",
   "metadata": {},
   "source": [
    "To fix the tensor shape issues, we can manipulate the shape of one of the tensors using a transpose\n",
    "A **transpose** switch the axes or dimensions of a given tensor\n"
   ]
  },
  {
   "cell_type": "code",
   "execution_count": 21,
   "metadata": {},
   "outputs": [
    {
     "data": {
      "text/plain": [
       "torch.Size([2, 3])"
      ]
     },
     "execution_count": 21,
     "metadata": {},
     "output_type": "execute_result"
    }
   ],
   "source": [
    "tensor_b.T\n",
    "tensor_b.T.shape"
   ]
  },
  {
   "cell_type": "code",
   "execution_count": 22,
   "metadata": {},
   "outputs": [
    {
     "data": {
      "text/plain": [
       "tensor([[ 27,  30,  33],\n",
       "        [ 61,  68,  75],\n",
       "        [ 95, 106, 117]])"
      ]
     },
     "execution_count": 22,
     "metadata": {},
     "output_type": "execute_result"
    }
   ],
   "source": [
    "# The matrix multiplication works when tensor_b is transposed\n",
    "\n",
    "torch.mm(tensor_a, tensor_b.T)"
   ]
  },
  {
   "cell_type": "code",
   "execution_count": 23,
   "metadata": {},
   "outputs": [
    {
     "name": "stdout",
     "output_type": "stream",
     "text": [
      "Original shape: tensor_a: torch.Size([3, 2]), tensor_b: torch.Size([3, 2])\n",
      "After transpose: tensor_a: torch.Size([3, 2]) (still the same shape), tensor_b: torch.Size([2, 3])\n",
      "Multiplying the tensors: torch.Size([3, 2]) inner dimensions must match torch.Size([2, 3])\n",
      "Output: \n",
      "\n",
      "tensor([[ 27,  30,  33],\n",
      "        [ 61,  68,  75],\n",
      "        [ 95, 106, 117]])\n",
      "\n",
      "Shape of output: torch.Size([3, 3])\n"
     ]
    }
   ],
   "source": [
    "print(f'Original shape: tensor_a: {tensor_a.shape}, tensor_b: {tensor_b.shape}')\n",
    "print(f'After transpose: tensor_a: {tensor_a.shape} (still the same shape), tensor_b: {tensor_b.T.shape}')\n",
    "print(f'Multiplying the tensors: {tensor_a.shape} inner dimensions must match {tensor_b.T.shape}') \n",
    "print('Output: \\n')\n",
    "output = torch.mm(tensor_a, tensor_b.T)\n",
    "print(output)\n",
    "print(f'\\nShape of output: {output.shape}')"
   ]
  },
  {
   "cell_type": "code",
   "execution_count": 24,
   "metadata": {},
   "outputs": [
    {
     "name": "stdout",
     "output_type": "stream",
     "text": [
      "tensor([[ 76, 103],\n",
      "        [100, 136]])\n"
     ]
    }
   ],
   "source": [
    "####### Transposing tensor a instead of tensor b\n",
    "output2 = torch.mm(tensor_a.T, tensor_b)\n",
    "\n",
    "print(output2)"
   ]
  },
  {
   "cell_type": "markdown",
   "metadata": {},
   "source": [
    "### Finding the min, max, mean, sum, etc (tensor aggregation)\n"
   ]
  },
  {
   "cell_type": "code",
   "execution_count": 25,
   "metadata": {},
   "outputs": [
    {
     "data": {
      "text/plain": [
       "tensor([  0,  10,  20,  30,  40,  50,  60,  70,  80,  90, 100])"
      ]
     },
     "execution_count": 25,
     "metadata": {},
     "output_type": "execute_result"
    }
   ],
   "source": [
    "# Create a tensor\n",
    "x = torch.arange(0, 101, 10)\n",
    "x\n"
   ]
  },
  {
   "cell_type": "code",
   "execution_count": 26,
   "metadata": {},
   "outputs": [
    {
     "data": {
      "text/plain": [
       "(tensor(0), tensor(0))"
      ]
     },
     "execution_count": 26,
     "metadata": {},
     "output_type": "execute_result"
    }
   ],
   "source": [
    "# Find the minimum value\n",
    "torch.min(x), x.min()"
   ]
  },
  {
   "cell_type": "code",
   "execution_count": 27,
   "metadata": {},
   "outputs": [
    {
     "data": {
      "text/plain": [
       "(tensor(100), tensor(100))"
      ]
     },
     "execution_count": 27,
     "metadata": {},
     "output_type": "execute_result"
    }
   ],
   "source": [
    "# Find the maximum value\n",
    "torch.max(x), x.max()"
   ]
  },
  {
   "cell_type": "code",
   "execution_count": 28,
   "metadata": {},
   "outputs": [
    {
     "ename": "RuntimeError",
     "evalue": "mean(): could not infer output dtype. Input dtype must be either a floating point or complex dtype. Got: Long",
     "output_type": "error",
     "traceback": [
      "\u001b[1;31m---------------------------------------------------------------------------\u001b[0m",
      "\u001b[1;31mRuntimeError\u001b[0m                              Traceback (most recent call last)",
      "\u001b[1;32mc:\\Users\\jakev\\Code\\Learn_Pytorch\\00_pytorch_fundamentals.ipynb Cell 25\u001b[0m line \u001b[0;36m2\n\u001b[0;32m      <a href='vscode-notebook-cell:/c%3A/Users/jakev/Code/Learn_Pytorch/00_pytorch_fundamentals.ipynb#X33sZmlsZQ%3D%3D?line=0'>1</a>\u001b[0m \u001b[39m# Find the mean\u001b[39;00m\n\u001b[1;32m----> <a href='vscode-notebook-cell:/c%3A/Users/jakev/Code/Learn_Pytorch/00_pytorch_fundamentals.ipynb#X33sZmlsZQ%3D%3D?line=1'>2</a>\u001b[0m torch\u001b[39m.\u001b[39;49mmean(x)\n\u001b[0;32m      <a href='vscode-notebook-cell:/c%3A/Users/jakev/Code/Learn_Pytorch/00_pytorch_fundamentals.ipynb#X33sZmlsZQ%3D%3D?line=3'>4</a>\u001b[0m \u001b[39m### ^^^ Got the dtype error because the tensor was of type int64\u001b[39;00m\n",
      "\u001b[1;31mRuntimeError\u001b[0m: mean(): could not infer output dtype. Input dtype must be either a floating point or complex dtype. Got: Long"
     ]
    }
   ],
   "source": [
    "# Find the mean\n",
    "torch.mean(x)\n",
    "\n",
    "### ^^^ Got the dtype error because the tensor was of type int64\n"
   ]
  },
  {
   "cell_type": "code",
   "execution_count": 29,
   "metadata": {},
   "outputs": [
    {
     "data": {
      "text/plain": [
       "(tensor(50.), tensor(50.))"
      ]
     },
     "execution_count": 29,
     "metadata": {},
     "output_type": "execute_result"
    }
   ],
   "source": [
    "# Change the dtype to float ---> torch.mean(x.float()) requires the tensor to be float32 to work\n",
    "torch.mean(x.float()), x.float().mean()"
   ]
  },
  {
   "cell_type": "code",
   "execution_count": 30,
   "metadata": {},
   "outputs": [
    {
     "data": {
      "text/plain": [
       "(tensor(550), tensor(550))"
      ]
     },
     "execution_count": 30,
     "metadata": {},
     "output_type": "execute_result"
    }
   ],
   "source": [
    "torch.sum(x), x.sum()"
   ]
  },
  {
   "cell_type": "markdown",
   "metadata": {},
   "source": [
    "### Reshaping, stacking, squeezing, and unsqueezing tensors\n",
    "* Reshaping - reshapes an input tensor to a defined shape\n",
    "* View - Return a view of an input tensor of certain shape but keep the same memory as the original tensor\n",
    "* Stacking - combine multiple tensors on top of each other or side by side\n",
    "* Squeeze - removes a `1` dimensions from a tensor\n",
    "* Unsqueeze - add a `1` dimension to a target tensor\n",
    "* Permute - Return a view of the input with dimensions permuted (swapped) in a certain way\n",
    "\n",
    "\n",
    "Manipulate our tensors in someway to change their shape"
   ]
  },
  {
   "cell_type": "code",
   "execution_count": 31,
   "metadata": {},
   "outputs": [
    {
     "data": {
      "text/plain": [
       "(tensor([0, 1, 2, 3, 4, 5, 6, 7, 8]), torch.Size([9]))"
      ]
     },
     "execution_count": 31,
     "metadata": {},
     "output_type": "execute_result"
    }
   ],
   "source": [
    "# Create a new tensor\n",
    "y = torch.arange(0, 9)\n",
    "y, y.shape"
   ]
  },
  {
   "cell_type": "code",
   "execution_count": 32,
   "metadata": {},
   "outputs": [
    {
     "data": {
      "text/plain": [
       "(tensor([[0, 1, 2],\n",
       "         [3, 4, 5],\n",
       "         [6, 7, 8]]),\n",
       " torch.Size([3, 3]))"
      ]
     },
     "execution_count": 32,
     "metadata": {},
     "output_type": "execute_result"
    }
   ],
   "source": [
    "#Add an extra dimension\n",
    "\n",
    "# Has to be compatible with the tensor size i.e 3x3 = 9, 9x1 = 9\n",
    "y_reshaped = y.reshape(3, 3)\n",
    "y_reshaped, y_reshaped.shape"
   ]
  },
  {
   "cell_type": "code",
   "execution_count": 33,
   "metadata": {},
   "outputs": [
    {
     "data": {
      "text/plain": [
       "(tensor([[0, 1, 2, 3, 4, 5, 6, 7, 8]]), torch.Size([1, 9]))"
      ]
     },
     "execution_count": 33,
     "metadata": {},
     "output_type": "execute_result"
    }
   ],
   "source": [
    "z = y.view(1, 9)\n",
    "z, z.shape"
   ]
  },
  {
   "cell_type": "code",
   "execution_count": 34,
   "metadata": {},
   "outputs": [
    {
     "data": {
      "text/plain": [
       "(tensor([[5, 1, 2, 3, 4, 5, 6, 7, 8]]), tensor([5, 1, 2, 3, 4, 5, 6, 7, 8]))"
      ]
     },
     "execution_count": 34,
     "metadata": {},
     "output_type": "execute_result"
    }
   ],
   "source": [
    "# Changing z change y because a view of a tensor share the same memory as the original tensor\n",
    "z[:, 0] = 5\n",
    "z, y"
   ]
  },
  {
   "cell_type": "code",
   "execution_count": 35,
   "metadata": {},
   "outputs": [
    {
     "data": {
      "text/plain": [
       "tensor([[5, 1, 2, 3, 4, 5, 6, 7, 8],\n",
       "        [5, 1, 2, 3, 4, 5, 6, 7, 8],\n",
       "        [5, 1, 2, 3, 4, 5, 6, 7, 8],\n",
       "        [5, 1, 2, 3, 4, 5, 6, 7, 8],\n",
       "        [5, 1, 2, 3, 4, 5, 6, 7, 8],\n",
       "        [5, 1, 2, 3, 4, 5, 6, 7, 8],\n",
       "        [5, 1, 2, 3, 4, 5, 6, 7, 8]])"
      ]
     },
     "execution_count": 35,
     "metadata": {},
     "output_type": "execute_result"
    }
   ],
   "source": [
    "# Stack tensors on top of each other\n",
    "y_stacked = torch.stack([y, y,y,y,y,y,y]\n",
    "                        , dim=0)\n",
    "y_stacked"
   ]
  },
  {
   "cell_type": "code",
   "execution_count": 36,
   "metadata": {},
   "outputs": [
    {
     "data": {
      "text/plain": [
       "torch.Size([1, 9])"
      ]
     },
     "execution_count": 36,
     "metadata": {},
     "output_type": "execute_result"
    }
   ],
   "source": [
    "y_reshaped = y.reshape(1, 9)\n",
    "y_reshaped.shape"
   ]
  },
  {
   "cell_type": "code",
   "execution_count": 38,
   "metadata": {},
   "outputs": [
    {
     "data": {
      "text/plain": [
       "torch.Size([9])"
      ]
     },
     "execution_count": 38,
     "metadata": {},
     "output_type": "execute_result"
    }
   ],
   "source": [
    "y_reshaped.squeeze().shape"
   ]
  },
  {
   "cell_type": "code",
   "execution_count": 45,
   "metadata": {},
   "outputs": [
    {
     "name": "stdout",
     "output_type": "stream",
     "text": [
      "\n",
      "New Tensor: \n",
      " tensor([5, 1, 2, 3, 4, 5, 6, 7, 8])\n",
      "\n",
      "Shape of new tensor: torch.Size([9])\n",
      "\n",
      "New Tensor: \n",
      " tensor([[5, 1, 2, 3, 4, 5, 6, 7, 8]])\n",
      "\n",
      "Shape of new tensor: torch.Size([1, 9])\n"
     ]
    }
   ],
   "source": [
    "# Remove the extra dimension\n",
    "y_reshaped = y_reshaped.squeeze()\n",
    "print(f'\\nNew Tensor: \\n {y_reshaped}')\n",
    "print(f'\\nShape of new tensor: {y_reshaped.shape}')\n",
    "\n",
    "\n",
    "### Unsqueeze a tensor - add a dimension\n",
    "y_unsqueeze = y_reshaped.unsqueeze(dim=0)\n",
    "print(f'\\nNew Tensor: \\n {y_unsqueeze}')\n",
    "print(f'\\nShape of new tensor: {y_unsqueeze.shape}')\n",
    "\n"
   ]
  },
  {
   "cell_type": "code",
   "execution_count": 48,
   "metadata": {},
   "outputs": [
    {
     "name": "stdout",
     "output_type": "stream",
     "text": [
      "Original shape: torch.Size([3, 224, 224])\n",
      "Permuted shape: torch.Size([224, 224, 3])\n"
     ]
    }
   ],
   "source": [
    "## torch.permute() - rearrange the dimensions of a tensor ##\n",
    "## See this a lot with image recognition ##\n",
    "## The dimensions are usually (channels, height, width) ##\n",
    "x_original = torch.rand(size=(3, 224, 224)) # 3 color channels (RGB), 224 height, 224 width\n",
    "\n",
    "\n",
    "#Permute the tensor\n",
    "x_permuted = x_original.permute(1, 2, 0)\n",
    "\n",
    "\n",
    "print(f'Original shape: {x_original.shape}')\n",
    "print(f'Permuted shape: {x_permuted.shape}')"
   ]
  },
  {
   "cell_type": "code",
   "execution_count": 50,
   "metadata": {},
   "outputs": [],
   "source": [
    "x_original [0, 0, 0] = 23413"
   ]
  },
  {
   "cell_type": "code",
   "execution_count": 51,
   "metadata": {},
   "outputs": [
    {
     "data": {
      "text/plain": [
       "tensor(23413.)"
      ]
     },
     "execution_count": 51,
     "metadata": {},
     "output_type": "execute_result"
    }
   ],
   "source": [
    "x_permuted[0, 0, 0]"
   ]
  },
  {
   "cell_type": "markdown",
   "metadata": {},
   "source": [
    "### Indexing (selecting data from tensors)\n",
    "Indexing with PyTorch is similar to indexing with NumPy"
   ]
  },
  {
   "cell_type": "code",
   "execution_count": 1,
   "metadata": {},
   "outputs": [
    {
     "data": {
      "text/plain": [
       "(tensor([[[1, 2, 3],\n",
       "          [4, 5, 6],\n",
       "          [7, 8, 9]]]),\n",
       " torch.Size([1, 3, 3]))"
      ]
     },
     "execution_count": 1,
     "metadata": {},
     "output_type": "execute_result"
    }
   ],
   "source": [
    "# Create a tensor\n",
    "import torch\n",
    "x = torch.arange(1, 10).reshape(1,3,3)\n",
    "x, x.shape"
   ]
  },
  {
   "cell_type": "code",
   "execution_count": 2,
   "metadata": {},
   "outputs": [
    {
     "data": {
      "text/plain": [
       "tensor(9)"
      ]
     },
     "execution_count": 2,
     "metadata": {},
     "output_type": "execute_result"
    }
   ],
   "source": [
    "# Index on our new tensor\n",
    "x[0]\n",
    "\n",
    "\n",
    "# Let's Index on the middle bracket\n",
    "x[0, 1]\n",
    "\n",
    "\n",
    "# Let's index on the most inner bracket\n",
    "x[0,2,2]"
   ]
  },
  {
   "cell_type": "code",
   "execution_count": 3,
   "metadata": {},
   "outputs": [
    {
     "data": {
      "text/plain": [
       "tensor([[1, 2, 3]])"
      ]
     },
     "execution_count": 3,
     "metadata": {},
     "output_type": "execute_result"
    }
   ],
   "source": [
    "# You can also use the : to select all of a target dimension\n",
    "x[:,0]"
   ]
  },
  {
   "cell_type": "code",
   "execution_count": 5,
   "metadata": {},
   "outputs": [
    {
     "data": {
      "text/plain": [
       "tensor([1, 2, 3])"
      ]
     },
     "execution_count": 5,
     "metadata": {},
     "output_type": "execute_result"
    }
   ],
   "source": [
    "# Get all values of 0th and 1st dimension but only the first two values of the 2nd dimension\n",
    "x[0, 0, :]"
   ]
  },
  {
   "cell_type": "code",
   "execution_count": 8,
   "metadata": {},
   "outputs": [
    {
     "data": {
      "text/plain": [
       "tensor(9)"
      ]
     },
     "execution_count": 8,
     "metadata": {},
     "output_type": "execute_result"
    }
   ],
   "source": [
    "# Index on x to return 9\n",
    "x[0,2,2]\n",
    "\n",
    "\n",
    "# Index on x to return 3,6,9\n",
    "x[0,:,2]"
   ]
  },
  {
   "cell_type": "markdown",
   "metadata": {},
   "source": [
    "### PyTorch tensors & Numpy\n",
    "NuPy is a popular scientific Python numerical computing Library\n",
    "\n",
    "Pytorch has functionality to interact with it\n",
    "\n",
    "Data in NumPy, want in PyTorch tensor -> `torch.from_numpy(ndarray)`\n",
    "\n",
    "PyTorch tensor -> NumPy -> `torch.tensor.numpy`"
   ]
  },
  {
   "cell_type": "code",
   "execution_count": 16,
   "metadata": {},
   "outputs": [
    {
     "name": "stdout",
     "output_type": "stream",
     "text": [
      "Numpy array: [1. 2. 3. 4. 5.]\n",
      "Torch tensor: tensor([1., 2., 3., 4., 5.])\n"
     ]
    }
   ],
   "source": [
    "# Numpy array to tensor\n",
    "import array\n",
    "import torch\n",
    "import numpy as np\n",
    "\n",
    "array = np.array([1.0, 2.0, 3.0, 4.0, 5.0])\n",
    "tensor = torch.from_numpy(array).type(torch.float32) # When converting from numpy to a tensor, the data is defaulted to float64\n",
    "\n",
    "print(f'Numpy array: {array}')\n",
    "print(f'Torch tensor: {tensor}')"
   ]
  },
  {
   "cell_type": "code",
   "execution_count": 19,
   "metadata": {},
   "outputs": [
    {
     "data": {
      "text/plain": [
       "(tensor([1., 1., 1., 1., 1., 1., 1.]),\n",
       " array([1., 1., 1., 1., 1., 1., 1.], dtype=float32))"
      ]
     },
     "execution_count": 19,
     "metadata": {},
     "output_type": "execute_result"
    }
   ],
   "source": [
    "\n",
    "tensor = torch.ones(7)\n",
    "numpy_tensor = tensor.numpy()\n",
    "tensor, numpy_tensor"
   ]
  },
  {
   "cell_type": "code",
   "execution_count": 20,
   "metadata": {},
   "outputs": [
    {
     "data": {
      "text/plain": [
       "(tensor([2., 2., 2., 2., 2., 2., 2.]),\n",
       " array([2., 2., 2., 2., 2., 2., 2.], dtype=float32))"
      ]
     },
     "execution_count": 20,
     "metadata": {},
     "output_type": "execute_result"
    }
   ],
   "source": [
    "# Change the tensor what will happen to the numpy tensor?\n",
    "tensor += 1\n",
    "tensor, numpy_tensor"
   ]
  },
  {
   "cell_type": "markdown",
   "metadata": {},
   "source": [
    "### Reproducibility (trying to take the random out of randomness)\n",
    "\n",
    "In short how a neural network works and learns:\n",
    "\n",
    "start with random number --> tensor operations --> update random numbers to make them better at representations of the data --> again --> again --> and again...\n",
    "\n",
    "To reduce the randomness in neural networks and PyTorch comes the concept of a `random seed`"
   ]
  },
  {
   "cell_type": "code",
   "execution_count": 21,
   "metadata": {},
   "outputs": [
    {
     "name": "stdout",
     "output_type": "stream",
     "text": [
      "tensor([[5.3064e-01, 4.4200e-01, 5.9391e-01],\n",
      "        [5.1664e-02, 4.1238e-01, 9.5685e-01],\n",
      "        [5.0082e-03, 4.9574e-01, 5.2136e-01],\n",
      "        [7.3719e-04, 3.2414e-01, 4.7927e-01],\n",
      "        [3.5666e-01, 3.3860e-01, 6.3354e-02]])\n",
      "tensor([[0.7290, 0.0689, 0.5403],\n",
      "        [0.3625, 0.9602, 0.7950],\n",
      "        [0.4766, 0.4210, 0.7801],\n",
      "        [0.0151, 0.4709, 0.5948],\n",
      "        [0.8992, 0.8977, 0.1400]])\n",
      "tensor([[False, False, False],\n",
      "        [False, False, False],\n",
      "        [False, False, False],\n",
      "        [False, False, False],\n",
      "        [False, False, False]])\n"
     ]
    }
   ],
   "source": [
    "import random\n",
    "import torch\n",
    "\n",
    "\n",
    "# Create two random tensors\n",
    "random_tensor_a = torch.rand(5, 3) \n",
    "random_tensor_b = torch.rand(5, 3)\n",
    "\n",
    "\n",
    "# Are they equal?\n",
    "print(random_tensor_a)\n",
    "print(random_tensor_b)\n",
    "print(random_tensor_a == random_tensor_b)"
   ]
  },
  {
   "cell_type": "code",
   "execution_count": null,
   "metadata": {},
   "outputs": [],
   "source": []
  }
 ],
 "metadata": {
  "kernelspec": {
   "display_name": "venv",
   "language": "python",
   "name": "python3"
  },
  "language_info": {
   "codemirror_mode": {
    "name": "ipython",
    "version": 3
   },
   "file_extension": ".py",
   "mimetype": "text/x-python",
   "name": "python",
   "nbconvert_exporter": "python",
   "pygments_lexer": "ipython3",
   "version": "3.11.5"
  }
 },
 "nbformat": 4,
 "nbformat_minor": 2
}
