{
 "cells": [
  {
   "cell_type": "markdown",
   "metadata": {},
   "source": [
    "## Tensor Datatypes (Attributes)\n",
    "**Note**: Tesnor datatypes is one of the 3 big errors you'll run into with Pytorch & deep learning\n",
    "1. Tensors are not the right **datatype**\n",
    "2. Tensors are not the right **shape**\n",
    "3. Tensors are not on the right **device**\n"
   ]
  },
  {
   "cell_type": "code",
   "execution_count": 2,
   "metadata": {},
   "outputs": [],
   "source": [
    "import torch\n",
    "import numpy as np\n",
    "import pandas as pd"
   ]
  },
  {
   "cell_type": "code",
   "execution_count": 3,
   "metadata": {},
   "outputs": [
    {
     "data": {
      "text/plain": [
       "tensor([ 1.,  4.,  9., 16., 25.], dtype=torch.float16)"
      ]
     },
     "execution_count": 3,
     "metadata": {},
     "output_type": "execute_result"
    }
   ],
   "source": [
    "int_16_tensor = torch.tensor([1, 2, 3, 4, 5],\n",
    "                             dtype=torch.int16)\n",
    "\n",
    "float_16_tensor = torch.tensor([1, 2, 3, 4, 5],\n",
    "                                 dtype=torch.float16)\n",
    "\n",
    "int_16_tensor * float_16_tensor"
   ]
  },
  {
   "cell_type": "markdown",
   "metadata": {},
   "source": [
    "## Getting Information from Tensors\n",
    "1. Tensors are not the right **datatype** - to get datatype from a tensor, use tensor.dtype\n",
    "2. Tensors are not the right **shape** to get shape from a tensor, use tensor.shape\n",
    "3. Tensors are not on the right **device** to get the device from a tensor, use tensor.device"
   ]
  },
  {
   "cell_type": "code",
   "execution_count": 4,
   "metadata": {},
   "outputs": [
    {
     "data": {
      "text/plain": [
       "tensor([[0.9277, 0.6797, 0.1494, 0.5503, 0.0186],\n",
       "        [0.5225, 0.0625, 0.4756, 0.0894, 0.7207],\n",
       "        [0.5283, 0.3896, 0.8398, 0.7471, 0.0293],\n",
       "        [0.2124, 0.6875, 0.1421, 0.4385, 0.3257],\n",
       "        [0.3882, 0.6699, 0.3384, 0.8545, 0.0215]], dtype=torch.float16)"
      ]
     },
     "execution_count": 4,
     "metadata": {},
     "output_type": "execute_result"
    }
   ],
   "source": [
    "rand_tensor = rand_tensor = torch.rand([5, 5],\n",
    "                                       dtype=torch.float16\n",
    "                                       )\n",
    "rand_tensor"
   ]
  },
  {
   "cell_type": "code",
   "execution_count": 5,
   "metadata": {},
   "outputs": [
    {
     "name": "stdout",
     "output_type": "stream",
     "text": [
      "tensor([[0.9277, 0.6797, 0.1494, 0.5503, 0.0186],\n",
      "        [0.5225, 0.0625, 0.4756, 0.0894, 0.7207],\n",
      "        [0.5283, 0.3896, 0.8398, 0.7471, 0.0293],\n",
      "        [0.2124, 0.6875, 0.1421, 0.4385, 0.3257],\n",
      "        [0.3882, 0.6699, 0.3384, 0.8545, 0.0215]], dtype=torch.float16)\n",
      "torch.Size([5, 5])\n",
      "torch.float16\n",
      "cpu\n"
     ]
    }
   ],
   "source": [
    "# Find out some data from a tensor\n",
    "print(rand_tensor)\n",
    "print(rand_tensor.shape)\n",
    "print(rand_tensor.dtype)\n",
    "print(rand_tensor.device)"
   ]
  },
  {
   "cell_type": "markdown",
   "metadata": {},
   "source": [
    "## Manipulating Tensors\n",
    "Tensor operation include:\n",
    "1. Addition\n",
    "2. Subtraction\n",
    "3. Multiplication\n",
    "4. Division\n",
    "5. Matrix Multiplication\n"
   ]
  },
  {
   "cell_type": "code",
   "execution_count": 6,
   "metadata": {},
   "outputs": [
    {
     "name": "stdout",
     "output_type": "stream",
     "text": [
      "tensor([21, 22, 23, 24, 25])\n",
      "tensor([1, 2, 3, 4, 5])\n"
     ]
    }
   ],
   "source": [
    "# Addition\n",
    "\n",
    "from torch import tensor\n",
    "\n",
    "\n",
    "add_tensor = torch.tensor([1, 2, 3, 4, 5])\n",
    "print(add_tensor + 20)\n",
    "print(add_tensor)"
   ]
  },
  {
   "cell_type": "code",
   "execution_count": 7,
   "metadata": {},
   "outputs": [
    {
     "data": {
      "text/plain": [
       "tensor([10, 20, 30, 40, 50])"
      ]
     },
     "execution_count": 7,
     "metadata": {},
     "output_type": "execute_result"
    }
   ],
   "source": [
    "# Multiplication\n",
    "mul_tensor = torch.tensor([1, 2, 3, 4, 5])\n",
    "mul_tensor *= 10\n",
    "mul_tensor"
   ]
  },
  {
   "cell_type": "code",
   "execution_count": 8,
   "metadata": {},
   "outputs": [
    {
     "data": {
      "text/plain": [
       "tensor([-9, -8, -7, -6, -5])"
      ]
     },
     "execution_count": 8,
     "metadata": {},
     "output_type": "execute_result"
    }
   ],
   "source": [
    "# Subraction\n",
    "sub_tensor = torch.tensor([1, 2, 3, 4, 5])\n",
    "sub_tensor -= 10\n",
    "sub_tensor"
   ]
  },
  {
   "cell_type": "code",
   "execution_count": 9,
   "metadata": {},
   "outputs": [
    {
     "data": {
      "text/plain": [
       "tensor([10, 20, 30, 40, 50])"
      ]
     },
     "execution_count": 9,
     "metadata": {},
     "output_type": "execute_result"
    }
   ],
   "source": [
    "# Try out pytorch inbuilt functions\n",
    "torch.mul(add_tensor, 10)"
   ]
  },
  {
   "cell_type": "markdown",
   "metadata": {},
   "source": [
    "## Matrix Multiplication\n",
    "Two main ways of performing multiplication in neural networks and deep learning\n",
    "1. Element-wise\n",
    "2. Matrix Multiplication (dot-product)\n",
    "\n",
    "There are two main rules when performing matrix multiplication:\n",
    "1. The **inner dimesions** must match:\n",
    "* `(3,2) @ (3,2)` won't work\n",
    "* `(2,3) @ (3,2)` will work!\n",
    "* `(3,2) @ (2,3)` will work!\n",
    "\n",
    "2. The resulting matrix has the shape of the **outer dimensions**\n",
    "* `(2,3) @ (3,2)` resulting shape is 2x2\n",
    "* `(3,2) @ (2,3)` resulting shape is 3x3\n",
    "\n",
    "\n"
   ]
  },
  {
   "cell_type": "code",
   "execution_count": 10,
   "metadata": {},
   "outputs": [
    {
     "name": "stdout",
     "output_type": "stream",
     "text": [
      "tensor([1, 2, 3, 4, 5]) * tensor([1, 2, 3, 4, 5])\n"
     ]
    },
    {
     "data": {
      "text/plain": [
       "tensor([ 1,  4,  9, 16, 25])"
      ]
     },
     "execution_count": 10,
     "metadata": {},
     "output_type": "execute_result"
    }
   ],
   "source": [
    "print(add_tensor, \"*\", add_tensor)\n",
    "torch.mul(add_tensor, add_tensor)"
   ]
  },
  {
   "cell_type": "markdown",
   "metadata": {},
   "source": [
    "#### One of the most common areas in deeplearning: shape errors"
   ]
  },
  {
   "cell_type": "code",
   "execution_count": 11,
   "metadata": {},
   "outputs": [
    {
     "ename": "RuntimeError",
     "evalue": "mat1 and mat2 shapes cannot be multiplied (3x2 and 3x2)",
     "output_type": "error",
     "traceback": [
      "\u001b[1;31m---------------------------------------------------------------------------\u001b[0m",
      "\u001b[1;31mRuntimeError\u001b[0m                              Traceback (most recent call last)",
      "\u001b[1;32mc:\\Users\\jakev\\Code\\Learn_Pytorch\\00_pytorch_fundamentals.ipynb Cell 15\u001b[0m line \u001b[0;36m1\n\u001b[0;32m      <a href='vscode-notebook-cell:/c%3A/Users/jakev/Code/Learn_Pytorch/00_pytorch_fundamentals.ipynb#X20sZmlsZQ%3D%3D?line=1'>2</a>\u001b[0m tensor_a \u001b[39m=\u001b[39m torch\u001b[39m.\u001b[39mtensor([[\u001b[39m1\u001b[39m,\u001b[39m2\u001b[39m],\n\u001b[0;32m      <a href='vscode-notebook-cell:/c%3A/Users/jakev/Code/Learn_Pytorch/00_pytorch_fundamentals.ipynb#X20sZmlsZQ%3D%3D?line=2'>3</a>\u001b[0m                          [\u001b[39m3\u001b[39m,\u001b[39m4\u001b[39m],\n\u001b[0;32m      <a href='vscode-notebook-cell:/c%3A/Users/jakev/Code/Learn_Pytorch/00_pytorch_fundamentals.ipynb#X20sZmlsZQ%3D%3D?line=3'>4</a>\u001b[0m                          [\u001b[39m5\u001b[39m,\u001b[39m6\u001b[39m]])\n\u001b[0;32m      <a href='vscode-notebook-cell:/c%3A/Users/jakev/Code/Learn_Pytorch/00_pytorch_fundamentals.ipynb#X20sZmlsZQ%3D%3D?line=5'>6</a>\u001b[0m tensor_b \u001b[39m=\u001b[39m torch\u001b[39m.\u001b[39mtensor([[\u001b[39m7\u001b[39m,\u001b[39m10\u001b[39m],\n\u001b[0;32m      <a href='vscode-notebook-cell:/c%3A/Users/jakev/Code/Learn_Pytorch/00_pytorch_fundamentals.ipynb#X20sZmlsZQ%3D%3D?line=6'>7</a>\u001b[0m                         [\u001b[39m8\u001b[39m,\u001b[39m11\u001b[39m],\n\u001b[0;32m      <a href='vscode-notebook-cell:/c%3A/Users/jakev/Code/Learn_Pytorch/00_pytorch_fundamentals.ipynb#X20sZmlsZQ%3D%3D?line=7'>8</a>\u001b[0m                         [\u001b[39m9\u001b[39m,\u001b[39m12\u001b[39m]])\n\u001b[1;32m---> <a href='vscode-notebook-cell:/c%3A/Users/jakev/Code/Learn_Pytorch/00_pytorch_fundamentals.ipynb#X20sZmlsZQ%3D%3D?line=9'>10</a>\u001b[0m torch\u001b[39m.\u001b[39;49mmm(tensor_a, tensor_b)\n",
      "\u001b[1;31mRuntimeError\u001b[0m: mat1 and mat2 shapes cannot be multiplied (3x2 and 3x2)"
     ]
    }
   ],
   "source": [
    "# Shapes for matrix multiplication\n",
    "tensor_a = torch.tensor([[1,2],\n",
    "                         [3,4],\n",
    "                         [5,6]])\n",
    "\n",
    "tensor_b = torch.tensor([[7,10],\n",
    "                        [8,11],\n",
    "                        [9,12]])\n",
    "\n",
    "torch.mm(tensor_a, tensor_b)"
   ]
  },
  {
   "cell_type": "markdown",
   "metadata": {},
   "source": [
    "To fix the tensor shape issues, we can maniupluate the shape of one of the tensors using a transpose\n",
    "A **transpose** switch the axes or dimesions of a given tensor\n"
   ]
  },
  {
   "cell_type": "code",
   "execution_count": 13,
   "metadata": {},
   "outputs": [
    {
     "data": {
      "text/plain": [
       "torch.Size([2, 3])"
      ]
     },
     "execution_count": 13,
     "metadata": {},
     "output_type": "execute_result"
    }
   ],
   "source": [
    "tensor_b.T\n",
    "tensor_b.T.shape"
   ]
  },
  {
   "cell_type": "code",
   "execution_count": 14,
   "metadata": {},
   "outputs": [
    {
     "data": {
      "text/plain": [
       "tensor([[ 27,  30,  33],\n",
       "        [ 61,  68,  75],\n",
       "        [ 95, 106, 117]])"
      ]
     },
     "execution_count": 14,
     "metadata": {},
     "output_type": "execute_result"
    }
   ],
   "source": [
    "# The matrix multiplication works when tensor_b is transposed\n",
    "\n",
    "torch.mm(tensor_a, tensor_b.T)"
   ]
  },
  {
   "cell_type": "code",
   "execution_count": 16,
   "metadata": {},
   "outputs": [
    {
     "name": "stdout",
     "output_type": "stream",
     "text": [
      "Original shape: tensor_a: torch.Size([3, 2]), tensor_b: torch.Size([3, 2])\n",
      "After transpose: tensor_a: torch.Size([3, 2]) (still the same shape), tensor_b: torch.Size([2, 3])\n",
      "Multiplying the tensors: torch.Size([3, 2]) inner dimensions must match torch.Size([2, 3])\n",
      "Output: \n",
      "\n",
      "tensor([[ 27,  30,  33],\n",
      "        [ 61,  68,  75],\n",
      "        [ 95, 106, 117]])\n",
      "\n",
      "Shape of output: torch.Size([3, 3])\n"
     ]
    }
   ],
   "source": [
    "print(f'Original shape: tensor_a: {tensor_a.shape}, tensor_b: {tensor_b.shape}')\n",
    "print(f'After transpose: tensor_a: {tensor_a.shape} (still the same shape), tensor_b: {tensor_b.T.shape}')\n",
    "print(f'Multiplying the tensors: {tensor_a.shape} inner dimensions must match {tensor_b.T.shape}') \n",
    "print('Output: \\n')\n",
    "output = torch.mm(tensor_a, tensor_b.T)\n",
    "print(output)\n",
    "print(f'\\nShape of output: {output.shape}')"
   ]
  },
  {
   "cell_type": "code",
   "execution_count": 18,
   "metadata": {},
   "outputs": [
    {
     "name": "stdout",
     "output_type": "stream",
     "text": [
      "tensor([[ 76, 103],\n",
      "        [100, 136]])\n"
     ]
    }
   ],
   "source": [
    "####### Transposing tensor a instead of thesor b\n",
    "output2 = torch.mm(tensor_a.T, tensor_b)\n",
    "\n",
    "print(output2)"
   ]
  },
  {
   "cell_type": "markdown",
   "metadata": {},
   "source": [
    "### Finding the min, max, mean, sum, etc (tensor aggreagtion)\n"
   ]
  },
  {
   "cell_type": "code",
   "execution_count": 21,
   "metadata": {},
   "outputs": [
    {
     "data": {
      "text/plain": [
       "tensor([  0,  10,  20,  30,  40,  50,  60,  70,  80,  90, 100])"
      ]
     },
     "execution_count": 21,
     "metadata": {},
     "output_type": "execute_result"
    }
   ],
   "source": [
    "# Create a tensor\n",
    "x = torch.arange(0, 101, 10)\n",
    "x\n"
   ]
  },
  {
   "cell_type": "code",
   "execution_count": 22,
   "metadata": {},
   "outputs": [
    {
     "data": {
      "text/plain": [
       "(tensor(0), tensor(0))"
      ]
     },
     "execution_count": 22,
     "metadata": {},
     "output_type": "execute_result"
    }
   ],
   "source": [
    "# Find the mibnimum value\n",
    "torch.min(x), x.min()"
   ]
  },
  {
   "cell_type": "code",
   "execution_count": 23,
   "metadata": {},
   "outputs": [
    {
     "data": {
      "text/plain": [
       "(tensor(100), tensor(100))"
      ]
     },
     "execution_count": 23,
     "metadata": {},
     "output_type": "execute_result"
    }
   ],
   "source": [
    "# Find the maximum value\n",
    "torch.max(x), x.max()"
   ]
  },
  {
   "cell_type": "code",
   "execution_count": 25,
   "metadata": {},
   "outputs": [
    {
     "ename": "RuntimeError",
     "evalue": "mean(): could not infer output dtype. Input dtype must be either a floating point or complex dtype. Got: Long",
     "output_type": "error",
     "traceback": [
      "\u001b[1;31m---------------------------------------------------------------------------\u001b[0m",
      "\u001b[1;31mRuntimeError\u001b[0m                              Traceback (most recent call last)",
      "\u001b[1;32mc:\\Users\\jakev\\Code\\Learn_Pytorch\\00_pytorch_fundamentals.ipynb Cell 25\u001b[0m line \u001b[0;36m2\n\u001b[0;32m      <a href='vscode-notebook-cell:/c%3A/Users/jakev/Code/Learn_Pytorch/00_pytorch_fundamentals.ipynb#X35sZmlsZQ%3D%3D?line=0'>1</a>\u001b[0m \u001b[39m# Find the mean\u001b[39;00m\n\u001b[1;32m----> <a href='vscode-notebook-cell:/c%3A/Users/jakev/Code/Learn_Pytorch/00_pytorch_fundamentals.ipynb#X35sZmlsZQ%3D%3D?line=1'>2</a>\u001b[0m torch\u001b[39m.\u001b[39;49mmean(x)\n\u001b[0;32m      <a href='vscode-notebook-cell:/c%3A/Users/jakev/Code/Learn_Pytorch/00_pytorch_fundamentals.ipynb#X35sZmlsZQ%3D%3D?line=3'>4</a>\u001b[0m \u001b[39m### ^^^ Got the dtype error because the tensor was of type int64\u001b[39;00m\n\u001b[0;32m      <a href='vscode-notebook-cell:/c%3A/Users/jakev/Code/Learn_Pytorch/00_pytorch_fundamentals.ipynb#X35sZmlsZQ%3D%3D?line=4'>5</a>\u001b[0m \n\u001b[0;32m      <a href='vscode-notebook-cell:/c%3A/Users/jakev/Code/Learn_Pytorch/00_pytorch_fundamentals.ipynb#X35sZmlsZQ%3D%3D?line=5'>6</a>\u001b[0m \u001b[39m# Change the dtype to float\u001b[39;00m\n\u001b[0;32m      <a href='vscode-notebook-cell:/c%3A/Users/jakev/Code/Learn_Pytorch/00_pytorch_fundamentals.ipynb#X35sZmlsZQ%3D%3D?line=6'>7</a>\u001b[0m torch\u001b[39m.\u001b[39mmean(x\u001b[39m.\u001b[39mfloat())\n",
      "\u001b[1;31mRuntimeError\u001b[0m: mean(): could not infer output dtype. Input dtype must be either a floating point or complex dtype. Got: Long"
     ]
    }
   ],
   "source": [
    "# Find the mean\n",
    "torch.mean(x)\n",
    "\n",
    "### ^^^ Got the dtype error because the tensor was of type int64\n"
   ]
  },
  {
   "cell_type": "code",
   "execution_count": 27,
   "metadata": {},
   "outputs": [
    {
     "data": {
      "text/plain": [
       "(tensor(50.), tensor(50.))"
      ]
     },
     "execution_count": 27,
     "metadata": {},
     "output_type": "execute_result"
    }
   ],
   "source": [
    "# Change the dtype to float ---> torch.mean(x.float()) requires the tensor to be float32 to work\n",
    "torch.mean(x.float()), x.float().mean()"
   ]
  },
  {
   "cell_type": "code",
   "execution_count": 28,
   "metadata": {},
   "outputs": [
    {
     "data": {
      "text/plain": [
       "(tensor(550), tensor(550))"
      ]
     },
     "execution_count": 28,
     "metadata": {},
     "output_type": "execute_result"
    }
   ],
   "source": [
    "torch.sum(x), x.sum()"
   ]
  },
  {
   "cell_type": "markdown",
   "metadata": {},
   "source": [
    "### Reshaping, stacking, squeezing, and unsqueezing tensors\n",
    "* Reshaping - reshapes an input tensor to a defined shape\n",
    "* View - Return a view of an input tensor of certain shape but keep the same memor as the original tensor\n",
    "* Stacking - combine multiple tensors on top of each other or side by side\n",
    "* Squeeze - removes a `1` dimesions from a tensor\n",
    "* Unsqueeze - add a `1` dimesion to a target tensor\n",
    "* Permute - Return a view of the input with dimensions permuted (swapped) in a certain way\n",
    "\n",
    "\n",
    "Manipulate our tensors in someway to change their shape"
   ]
  },
  {
   "cell_type": "code",
   "execution_count": 29,
   "metadata": {},
   "outputs": [
    {
     "data": {
      "text/plain": [
       "(tensor([0, 1, 2, 3, 4, 5, 6, 7, 8]), torch.Size([9]))"
      ]
     },
     "execution_count": 29,
     "metadata": {},
     "output_type": "execute_result"
    }
   ],
   "source": [
    "# Create a new tensor\n",
    "y = torch.arange(0, 9)\n",
    "y, y.shape"
   ]
  },
  {
   "cell_type": "code",
   "execution_count": 31,
   "metadata": {},
   "outputs": [
    {
     "data": {
      "text/plain": [
       "(tensor([[0, 1, 2],\n",
       "         [3, 4, 5],\n",
       "         [6, 7, 8]]),\n",
       " torch.Size([3, 3]))"
      ]
     },
     "execution_count": 31,
     "metadata": {},
     "output_type": "execute_result"
    }
   ],
   "source": [
    "#Add an extra dimension\n",
    "\n",
    "# Has to be compatible with the tensor size i.e 3x3 = 9, 9x1 = 9\n",
    "y_reshaped = y.reshape(3, 3)\n",
    "y_reshaped, y_reshaped.shape"
   ]
  },
  {
   "cell_type": "code",
   "execution_count": 32,
   "metadata": {},
   "outputs": [
    {
     "data": {
      "text/plain": [
       "(tensor([[0, 1, 2, 3, 4, 5, 6, 7, 8]]), torch.Size([1, 9]))"
      ]
     },
     "execution_count": 32,
     "metadata": {},
     "output_type": "execute_result"
    }
   ],
   "source": [
    "z = y.view(1, 9)\n",
    "z, z.shape"
   ]
  },
  {
   "cell_type": "code",
   "execution_count": 33,
   "metadata": {},
   "outputs": [
    {
     "data": {
      "text/plain": [
       "(tensor([[5, 1, 2, 3, 4, 5, 6, 7, 8]]), tensor([5, 1, 2, 3, 4, 5, 6, 7, 8]))"
      ]
     },
     "execution_count": 33,
     "metadata": {},
     "output_type": "execute_result"
    }
   ],
   "source": [
    "# Changing z change y because a view of a tensor share the same memory as the original tensor\n",
    "z[:, 0] = 5\n",
    "z, y"
   ]
  },
  {
   "cell_type": "code",
   "execution_count": 37,
   "metadata": {},
   "outputs": [
    {
     "data": {
      "text/plain": [
       "tensor([[5, 1, 2, 3, 4, 5, 6, 7, 8],\n",
       "        [5, 1, 2, 3, 4, 5, 6, 7, 8],\n",
       "        [5, 1, 2, 3, 4, 5, 6, 7, 8],\n",
       "        [5, 1, 2, 3, 4, 5, 6, 7, 8],\n",
       "        [5, 1, 2, 3, 4, 5, 6, 7, 8],\n",
       "        [5, 1, 2, 3, 4, 5, 6, 7, 8],\n",
       "        [5, 1, 2, 3, 4, 5, 6, 7, 8]])"
      ]
     },
     "execution_count": 37,
     "metadata": {},
     "output_type": "execute_result"
    }
   ],
   "source": [
    "# Stack tensors on top of each other\n",
    "y_stacked = torch.stack([y, y,y,y,y,y,y]\n",
    "                        , dim=0)\n",
    "y_stacked"
   ]
  },
  {
   "cell_type": "code",
   "execution_count": null,
   "metadata": {},
   "outputs": [],
   "source": []
  }
 ],
 "metadata": {
  "kernelspec": {
   "display_name": "venv",
   "language": "python",
   "name": "python3"
  },
  "language_info": {
   "codemirror_mode": {
    "name": "ipython",
    "version": 3
   },
   "file_extension": ".py",
   "mimetype": "text/x-python",
   "name": "python",
   "nbconvert_exporter": "python",
   "pygments_lexer": "ipython3",
   "version": "3.11.5"
  }
 },
 "nbformat": 4,
 "nbformat_minor": 2
}
