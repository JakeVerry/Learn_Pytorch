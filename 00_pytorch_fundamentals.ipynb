{
 "cells": [
  {
   "cell_type": "markdown",
   "metadata": {},
   "source": [
    "## Tensor Datatypes (Attributes)\n",
    "**Note**: Tesnor datatypes is one of the 3 big errors you'll run into with Pytorch & deep learning\n",
    "1. Tensors are not the right **datatype**\n",
    "2. Tensors are not the right **shape**\n",
    "3. Tensors are not on the right **device**\n"
   ]
  },
  {
   "cell_type": "code",
   "execution_count": 9,
   "metadata": {},
   "outputs": [],
   "source": [
    "import torch\n",
    "import numpy as np\n",
    "import pandas as pd"
   ]
  },
  {
   "cell_type": "code",
   "execution_count": 13,
   "metadata": {},
   "outputs": [
    {
     "data": {
      "text/plain": [
       "tensor([ 1.,  4.,  9., 16., 25.], dtype=torch.float16)"
      ]
     },
     "execution_count": 13,
     "metadata": {},
     "output_type": "execute_result"
    }
   ],
   "source": [
    "int_16_tensor = torch.tensor([1, 2, 3, 4, 5],\n",
    "                             dtype=torch.int16)\n",
    "\n",
    "float_16_tensor = torch.tensor([1, 2, 3, 4, 5],\n",
    "                                 dtype=torch.float16)\n",
    "\n",
    "int_16_tensor * float_16_tensor"
   ]
  },
  {
   "cell_type": "markdown",
   "metadata": {},
   "source": [
    "## Getting Information from Tensors\n",
    "1. Tensors are not the right **datatype** - to get datatype from a tensor, use tensor.dtype\n",
    "2. Tensors are not the right **shape** to get shape from a tensor, use tensor.shape\n",
    "3. Tensors are not on the right **device** to get the device from a tensor, use tensor.device"
   ]
  },
  {
   "cell_type": "code",
   "execution_count": 25,
   "metadata": {},
   "outputs": [
    {
     "data": {
      "text/plain": [
       "tensor([[0.9370, 0.5981, 0.5024, 0.6538, 0.2505],\n",
       "        [0.3999, 0.4102, 0.8037, 0.3760, 0.0562],\n",
       "        [0.6221, 0.0479, 0.1904, 0.2783, 0.8359],\n",
       "        [0.7104, 0.6895, 0.4888, 0.2729, 0.2354],\n",
       "        [0.3198, 0.8813, 0.5635, 0.9370, 0.7720]], dtype=torch.float16)"
      ]
     },
     "execution_count": 25,
     "metadata": {},
     "output_type": "execute_result"
    }
   ],
   "source": [
    "rand_tensor = rand_tensor = torch.rand([5, 5],\n",
    "                                       dtype=torch.float16\n",
    "                                       )\n",
    "rand_tensor"
   ]
  },
  {
   "cell_type": "code",
   "execution_count": 26,
   "metadata": {},
   "outputs": [
    {
     "name": "stdout",
     "output_type": "stream",
     "text": [
      "tensor([[0.9370, 0.5981, 0.5024, 0.6538, 0.2505],\n",
      "        [0.3999, 0.4102, 0.8037, 0.3760, 0.0562],\n",
      "        [0.6221, 0.0479, 0.1904, 0.2783, 0.8359],\n",
      "        [0.7104, 0.6895, 0.4888, 0.2729, 0.2354],\n",
      "        [0.3198, 0.8813, 0.5635, 0.9370, 0.7720]], dtype=torch.float16)\n",
      "torch.Size([5, 5])\n",
      "torch.float16\n",
      "cpu\n"
     ]
    }
   ],
   "source": [
    "# Find out some data from a tensor\n",
    "print(rand_tensor)\n",
    "print(rand_tensor.shape)\n",
    "print(rand_tensor.dtype)\n",
    "print(rand_tensor.device)"
   ]
  },
  {
   "cell_type": "markdown",
   "metadata": {},
   "source": [
    "## Manipulating Tensors\n",
    "Tensor operation include:\n",
    "1. Addition\n",
    "2. Subtraction\n",
    "3. Multiplication\n",
    "4. Division\n",
    "5. Matrix Multiplication\n"
   ]
  },
  {
   "cell_type": "code",
   "execution_count": 28,
   "metadata": {},
   "outputs": [
    {
     "name": "stdout",
     "output_type": "stream",
     "text": [
      "tensor([21, 22, 23, 24, 25])\n",
      "tensor([1, 2, 3, 4, 5])\n"
     ]
    }
   ],
   "source": [
    "# Addition\n",
    "\n",
    "from torch import tensor\n",
    "\n",
    "\n",
    "add_tensor = torch.tensor([1, 2, 3, 4, 5])\n",
    "print(add_tensor + 20)\n",
    "print(add_tensor)"
   ]
  },
  {
   "cell_type": "code",
   "execution_count": 31,
   "metadata": {},
   "outputs": [
    {
     "data": {
      "text/plain": [
       "tensor([10, 20, 30, 40, 50])"
      ]
     },
     "execution_count": 31,
     "metadata": {},
     "output_type": "execute_result"
    }
   ],
   "source": [
    "# Multiplication\n",
    "mul_tensor = torch.tensor([1, 2, 3, 4, 5])\n",
    "mul_tensor *= 10\n",
    "mul_tensor"
   ]
  },
  {
   "cell_type": "code",
   "execution_count": 32,
   "metadata": {},
   "outputs": [
    {
     "data": {
      "text/plain": [
       "tensor([-9, -8, -7, -6, -5])"
      ]
     },
     "execution_count": 32,
     "metadata": {},
     "output_type": "execute_result"
    }
   ],
   "source": [
    "# Subraction\n",
    "sub_tensor = torch.tensor([1, 2, 3, 4, 5])\n",
    "sub_tensor -= 10\n",
    "sub_tensor"
   ]
  },
  {
   "cell_type": "code",
   "execution_count": 33,
   "metadata": {},
   "outputs": [
    {
     "data": {
      "text/plain": [
       "tensor([10, 20, 30, 40, 50])"
      ]
     },
     "execution_count": 33,
     "metadata": {},
     "output_type": "execute_result"
    }
   ],
   "source": [
    "# Try out pytorch inbuilt functions\n",
    "torch.mul(add_tensor, 10)"
   ]
  },
  {
   "cell_type": "markdown",
   "metadata": {},
   "source": [
    "## Matrix Multiplication\n",
    "Two main ways of performing multiplication in neural networks and deep learning\n",
    "1. Element-wise\n",
    "2. Matrix Multiplication (dot-product)\n"
   ]
  },
  {
   "cell_type": "code",
   "execution_count": 34,
   "metadata": {},
   "outputs": [
    {
     "name": "stdout",
     "output_type": "stream",
     "text": [
      "tensor([1, 2, 3, 4, 5]) * tensor([1, 2, 3, 4, 5])\n"
     ]
    },
    {
     "data": {
      "text/plain": [
       "tensor([ 1,  4,  9, 16, 25])"
      ]
     },
     "execution_count": 34,
     "metadata": {},
     "output_type": "execute_result"
    }
   ],
   "source": [
    "print(add_tensor, \"*\", add_tensor)\n",
    "torch.mul(add_tensor, add_tensor)"
   ]
  },
  {
   "cell_type": "code",
   "execution_count": null,
   "metadata": {},
   "outputs": [],
   "source": []
  }
 ],
 "metadata": {
  "kernelspec": {
   "display_name": "venv",
   "language": "python",
   "name": "python3"
  },
  "language_info": {
   "codemirror_mode": {
    "name": "ipython",
    "version": 3
   },
   "file_extension": ".py",
   "mimetype": "text/x-python",
   "name": "python",
   "nbconvert_exporter": "python",
   "pygments_lexer": "ipython3",
   "version": "3.11.5"
  }
 },
 "nbformat": 4,
 "nbformat_minor": 2
}
