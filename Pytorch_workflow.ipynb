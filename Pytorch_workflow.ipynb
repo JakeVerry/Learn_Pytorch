{
 "cells": [
  {
   "cell_type": "markdown",
   "metadata": {},
   "source": [
    "## Pytorch Workflow:"
   ]
  },
  {
   "cell_type": "code",
   "execution_count": 1,
   "metadata": {},
   "outputs": [],
   "source": [
    "what_were_covering = {1: 'data (preparation and loading)',\n",
    "                    2: 'build a model',\n",
    "                    3: 'train a model',\n",
    "                    4: 'evaluate a model',\n",
    "                    5: 'save and load a model',\n",
    "                    6: 'put it all together',}\n",
    "\n"
   ]
  },
  {
   "cell_type": "code",
   "execution_count": 2,
   "metadata": {},
   "outputs": [
    {
     "data": {
      "text/plain": [
       "'2.1.1+cpu'"
      ]
     },
     "execution_count": 2,
     "metadata": {},
     "output_type": "execute_result"
    }
   ],
   "source": [
    "import torch\n",
    "from torch import nn #nn contains all the modules needed to build a neural networks\n",
    "import matplotlib.pyplot as plt\n",
    "\n",
    "torch.__version__"
   ]
  },
  {
   "cell_type": "markdown",
   "metadata": {},
   "source": [
    "## 1. Preparing and loading data\n",
    "Data can be almost anything.... as long as you convert it to numbers\n",
    "\n",
    "* Excel\n",
    "* Images\n",
    "* Videos\n",
    "* DNA\n",
    "* Audio\n",
    "* Text\n",
    "\n",
    "Machine learning / deep learning consists of two parts:\n",
    "1. Get data into a numerical representation\n",
    "2. Build a model to learn patterns in that numerical representation\n",
    "\n",
    "To showcase this, let's create some *known* data using the linear regression formula. \n",
    "We'll use a linear regression formula to make a straight line with *known* **parameters**\n"
   ]
  },
  {
   "cell_type": "code",
   "execution_count": 3,
   "metadata": {},
   "outputs": [
    {
     "data": {
      "text/plain": [
       "(tensor([[0.0000],\n",
       "         [0.0200],\n",
       "         [0.0400],\n",
       "         [0.0600],\n",
       "         [0.0800],\n",
       "         [0.1000],\n",
       "         [0.1200],\n",
       "         [0.1400],\n",
       "         [0.1600],\n",
       "         [0.1800]]),\n",
       " tensor([[0.3000],\n",
       "         [0.3140],\n",
       "         [0.3280],\n",
       "         [0.3420],\n",
       "         [0.3560],\n",
       "         [0.3700],\n",
       "         [0.3840],\n",
       "         [0.3980],\n",
       "         [0.4120],\n",
       "         [0.4260]]))"
      ]
     },
     "execution_count": 3,
     "metadata": {},
     "output_type": "execute_result"
    }
   ],
   "source": [
    "# Create *known* parameters\n",
    "import torch\n",
    "weight = 0.7\n",
    "bias = 0.3\n",
    "\n",
    "# Create *unknown* parameters\n",
    "start = 0.0\n",
    "end = 1.0\n",
    "step = 0.02\n",
    "X = torch.arange(start, end, step).unsqueeze(dim=1)\n",
    "y = weight * X + bias\n",
    "\n",
    "X[:10], y[:10]"
   ]
  },
  {
   "cell_type": "code",
   "execution_count": 4,
   "metadata": {},
   "outputs": [
    {
     "data": {
      "text/plain": [
       "(50, 50)"
      ]
     },
     "execution_count": 4,
     "metadata": {},
     "output_type": "execute_result"
    }
   ],
   "source": [
    "len(X), len(y)"
   ]
  },
  {
   "cell_type": "code",
   "execution_count": 5,
   "metadata": {},
   "outputs": [
    {
     "data": {
      "text/plain": [
       "<matplotlib.collections.PathCollection at 0x295f7c7f8d0>"
      ]
     },
     "execution_count": 5,
     "metadata": {},
     "output_type": "execute_result"
    },
    {
     "data": {
      "image/png": "[encoded data removed]",
      "text/plain": [
       "<Figure size 640x480 with 1 Axes>"
      ]
     },
     "metadata": {},
     "output_type": "display_data"
    }
   ],
   "source": [
    "# Plot the data\n",
    "plt.scatter(X, y, label='y')"
   ]
  },
  {
   "cell_type": "markdown",
   "metadata": {},
   "source": [
    "### Splitting data into training and testing data\n"
   ]
  },
  {
   "cell_type": "code",
   "execution_count": 6,
   "metadata": {},
   "outputs": [],
   "source": [
    "# Create a training and testing split of the data\n",
    "train_split = int(.8 * len(X))\n",
    "X_train, y_train = X[:train_split], y[:train_split]\n",
    "X_test, y_test = X[train_split:], y[train_split:]"
   ]
  },
  {
   "cell_type": "code",
   "execution_count": 7,
   "metadata": {},
   "outputs": [],
   "source": [
    "# Plot the training set in blue and testing set in red\n",
    "\n",
    "from turtle import color\n",
    "import matplotlib.pyplot as plt\n",
    "\n",
    "def plot_predictions(train_data=X_train,\n",
    "                    train_labels=y_train,\n",
    "                    test_data=X_test,\n",
    "                    test_labels=y_test,\n",
    "                    predictions=None):\n",
    "\n",
    "    # Plot the training set in blue and testing set in red\n",
    "    plt.figure(figsize=(10, 7))\n",
    "    plt.scatter(train_data, train_labels, c='b', label='Training data')\n",
    "    plt.scatter(test_data, test_labels, c='r', label='Testing data')\n",
    "    if predictions is not None:\n",
    "        plt.scatter(test_data, predictions, c='g', label='Predictions')"
   ]
  },
  {
   "cell_type": "markdown",
   "metadata": {},
   "source": [
    "## Building My 'First' PyTorch Model\n",
    "\n",
    "What are model does:\n",
    "1. Start with random values (weights * bias)\n",
    "2. Look at training data and adjust the values to get closer the the ideal values (the weight & bias)\n",
    "\n",
    "\n",
    "Does this through 2 main things:\n",
    "1. Gradient Descent\n",
    "2. Backpropagation "
   ]
  },
  {
   "cell_type": "code",
   "execution_count": 8,
   "metadata": {},
   "outputs": [],
   "source": [
    "from torch import nn\n",
    "# Create a linear regression model\n",
    "\n",
    "class LinearRegression(nn.Module): #nn.Module is the base class for all neural network modules\n",
    "    def __init__(self):\n",
    "        super().__init__()\n",
    "        self.weights = nn.Parameter(torch.randn(1,\n",
    "                                                requires_grad=True,\n",
    "                                                dtype=torch.float))\n",
    "        self.bias = nn.Parameter(torch.randn(1,\n",
    "                                            requires_grad=True,\n",
    "                                            dtype=torch.float))\n",
    "        \n",
    "    # Forward Method to define the computation performed in the model\n",
    "    def forward(self, x: torch.Tensor) -> torch.Tensor:\n",
    "        return x * self.weights + self.bias #y = wx + b"
   ]
  },
  {
   "cell_type": "markdown",
   "metadata": {},
   "source": [
    "### Taking a look behind the curtain to see the parameters\n",
    "\n",
    "Now that we've created our model, let's check to see what the parameters are.\n",
    "\n",
    "We can use `.parameters` to see the parameters of the model."
   ]
  },
  {
   "cell_type": "code",
   "execution_count": 9,
   "metadata": {},
   "outputs": [
    {
     "data": {
      "text/plain": [
       "[Parameter containing:\n",
       " tensor([0.3367], requires_grad=True),\n",
       " Parameter containing:\n",
       " tensor([0.1288], requires_grad=True)]"
      ]
     },
     "execution_count": 9,
     "metadata": {},
     "output_type": "execute_result"
    }
   ],
   "source": [
    "# Create our first model by calling the class LinearRegression\n",
    "# Create a manual seed for reproducibility\n",
    "\n",
    "import torch\n",
    "torch.manual_seed(42)\n",
    "\n",
    "# Create a model\n",
    "model_0 = LinearRegression()\n",
    "\n",
    "# Print the parameters of the model\n",
    "list(model_0.parameters())"
   ]
  },
  {
   "cell_type": "code",
   "execution_count": 10,
   "metadata": {},
   "outputs": [
    {
     "data": {
      "text/plain": [
       "OrderedDict([('weights', tensor([0.3367])), ('bias', tensor([0.1288]))])"
      ]
     },
     "execution_count": 10,
     "metadata": {},
     "output_type": "execute_result"
    }
   ],
   "source": [
    "#List named parameters\n",
    "model_0.state_dict()"
   ]
  },
  {
   "cell_type": "markdown",
   "metadata": {},
   "source": [
    "### Making predictions using `torch.inference_mode()` \n",
    "\n",
    "Let's see how well our model works at making predictions at y_test using X_test\n",
    "\n",
    "When we pass data through our model it will pass it through our forward method"
   ]
  },
  {
   "cell_type": "code",
   "execution_count": 11,
   "metadata": {},
   "outputs": [
    {
     "data": {
      "text/plain": [
       "tensor([[0.3982],\n",
       "        [0.4049],\n",
       "        [0.4116],\n",
       "        [0.4184],\n",
       "        [0.4251],\n",
       "        [0.4318],\n",
       "        [0.4386],\n",
       "        [0.4453],\n",
       "        [0.4520],\n",
       "        [0.4588]])"
      ]
     },
     "execution_count": 11,
     "metadata": {},
     "output_type": "execute_result"
    }
   ],
   "source": [
    "#Make a prediction of the model without training\n",
    "with torch.inference_mode():\n",
    "    y_preds = model_0(X_test)\n",
    "\n",
    "y_preds"
   ]
  },
  {
   "cell_type": "code",
   "execution_count": 12,
   "metadata": {},
   "outputs": [
    {
     "data": {
      "image/png": "[encoded data removed]",
      "text/plain": [
       "<Figure size 1000x700 with 1 Axes>"
      ]
     },
     "metadata": {},
     "output_type": "display_data"
    }
   ],
   "source": [
    "plot_predictions(predictions=y_preds)\n"
   ]
  },
  {
   "cell_type": "code",
   "execution_count": 33,
   "metadata": {},
   "outputs": [],
   "source": [
    "#Set up a loss function\n",
    "loss_fn =nn.L1Loss()\n",
    "\n",
    "# Set up an optimizer\n",
    "optimizer = torch.optim.AdamW(params=model_0.parameters(), lr=1e-2)"
   ]
  },
  {
   "cell_type": "code",
   "execution_count": 34,
   "metadata": {},
   "outputs": [
    {
     "name": "stdout",
     "output_type": "stream",
     "text": [
      "Loss: 0.027543315663933754\n",
      "Loss: 0.025043707340955734\n",
      "Loss: 0.023974673822522163\n",
      "Loss: 0.022124864161014557\n",
      "Loss: 0.019851569086313248\n",
      "Loss: 0.017636984586715698\n",
      "Loss: 0.015686167404055595\n",
      "Loss: 0.013995444402098656\n",
      "Loss: 0.0121712451800704\n",
      "Loss: 0.0099942646920681\n",
      "Loss: 0.008001988753676414\n",
      "Loss: 0.006573179271072149\n",
      "Loss: 0.004926808178424835\n",
      "Loss: 0.0026033050380647182\n",
      "Loss: 0.0021171369589865208\n",
      "Loss: 0.0016349047655239701\n",
      "Loss: 0.0019455135334283113\n",
      "Loss: 0.0025187418796122074\n",
      "Loss: 0.0032547651790082455\n",
      "Loss: 0.0033918730914592743\n",
      "Loss: 0.0033733441960066557\n",
      "Loss: 0.003366909921169281\n",
      "Loss: 0.003173238830640912\n",
      "Loss: 0.0027339295484125614\n",
      "Loss: 0.0021921731531620026\n",
      "Loss: 0.0016914636362344027\n",
      "Loss: 0.0008657037978991866\n",
      "Loss: 0.0008072525379247963\n",
      "Loss: 0.0018397241365164518\n",
      "Loss: 0.0014575414825230837\n",
      "Loss: 0.0017877541249617934\n",
      "Loss: 0.0022657527588307858\n",
      "Loss: 0.0019553862512111664\n",
      "Loss: 0.002057603793218732\n",
      "Loss: 0.0020335749723017216\n",
      "Loss: 0.001487828092649579\n",
      "Loss: 0.0012845039600506425\n",
      "Loss: 0.0006583862123079598\n",
      "Loss: 0.0013610735768452287\n",
      "Loss: 0.0003922469913959503\n",
      "Loss: 0.0008790783467702568\n",
      "Loss: 0.0007851518457755446\n",
      "Loss: 0.0009485222399234772\n",
      "Loss: 0.0008617229759693146\n",
      "Loss: 0.0006218917551450431\n",
      "Loss: 0.0012709640432149172\n",
      "Loss: 9.044930629897863e-05\n",
      "Loss: 0.0006956286961212754\n",
      "Loss: 0.0015211820136755705\n",
      "Loss: 0.000795679516158998\n",
      "Loss: 0.0020970292389392853\n",
      "Loss: 0.002041999250650406\n",
      "Loss: 0.0006591290002688766\n",
      "Loss: 0.0013433091808110476\n",
      "Loss: 0.00041205956949852407\n",
      "Loss: 0.0005129866185598075\n",
      "Loss: 0.0017739288741722703\n",
      "Loss: 0.0014434151817113161\n",
      "Loss: 0.0011615291005000472\n",
      "Loss: 0.0011818930506706238\n",
      "Loss: 0.0010544031392782927\n",
      "Loss: 0.0008272267878055573\n",
      "Loss: 0.0015581026673316956\n",
      "Loss: 0.0015098594594746828\n",
      "Loss: 0.0006769932806491852\n",
      "Loss: 0.0005498722312040627\n",
      "Loss: 0.0009690150618553162\n",
      "Loss: 0.00048319174675270915\n",
      "Loss: 0.0013187207514420152\n",
      "Loss: 0.0007126763230189681\n",
      "Loss: 0.0018856816459447145\n",
      "Loss: 0.0021500505972653627\n",
      "Loss: 0.000349934387486428\n",
      "Loss: 0.003276561154052615\n",
      "Loss: 0.004523778799921274\n",
      "Loss: 0.0036613806150853634\n",
      "Loss: 0.0009386174497194588\n",
      "Loss: 0.003256463212892413\n",
      "Loss: 0.005043120123445988\n",
      "Loss: 0.00469884043559432\n",
      "Loss: 0.0024607733357697725\n",
      "Loss: 0.0014600768918171525\n",
      "Loss: 0.003072776598855853\n",
      "Loss: 0.002630820032209158\n",
      "Loss: 0.0006614185986109078\n",
      "Loss: 0.002486561890691519\n",
      "Loss: 0.003150325268507004\n",
      "Loss: 0.0018694214522838593\n",
      "Loss: 0.0011440239613875747\n",
      "Loss: 0.0019972645677626133\n",
      "Loss: 0.0009239934151992202\n",
      "Loss: 0.0018672064179554582\n",
      "Loss: 0.002534910337999463\n",
      "Loss: 0.0013072788715362549\n",
      "Loss: 0.0016118355561047792\n",
      "Loss: 0.0024286366533488035\n",
      "Loss: 0.001367621123790741\n",
      "Loss: 0.0013703331351280212\n",
      "Loss: 0.0020334862638264894\n",
      "Loss: 0.0008423291146755219\n"
     ]
    }
   ],
   "source": [
    "# Set up manual seed\n",
    "torch.manual_seed(42)\n",
    "\n",
    "# An epoch is one loop through the entire training dataset.\n",
    "epochs = 100 \n",
    "\n",
    "# Step 1: Loop through the entire training dataset.\n",
    "for epoch in range(epochs):\n",
    "    # Set the model to the training model\n",
    "    # Sets all parameters to require gradients\n",
    "    model_0.train()\n",
    "    \n",
    "    # Step 2: Forward pass using the forward() function\n",
    "    y_preds = model_0(X_train)\n",
    "    \n",
    "    # Step 3: Calculate the loss using the loss function\n",
    "    loss = loss_fn(y_preds, y_train)\n",
    "    #print(f'Loss: {loss}')\n",
    "    \n",
    "    # Step 4: Calculate the zero grad\n",
    "    optimizer.zero_grad()\n",
    "    \n",
    "    # Step 5: Loss backward - use back propagation to calculate the gradients\n",
    "    loss.backward()\n",
    "    \n",
    "    # Step 6: Step the optimizer - attempt to optimize the weights and bias to reduce the loss\n",
    "    optimizer.step() # --> By default, the optimizer changes will accumulate throughout the training loop. We have to zero them in step 3 before the next loop\n",
    "    \n",
    "    \n",
    "    model_0.eval() # Turns off different setting in the model not needed for evaluation/ testing\n",
    "    with torch.inference_mode(): # Turns off gradient tracking & a couple more things\n",
    "        # 1. Do a forward pass\n",
    "        \n"
   ]
  },
  {
   "cell_type": "code",
   "execution_count": 35,
   "metadata": {},
   "outputs": [
    {
     "data": {
      "text/plain": [
       "OrderedDict([('weights', tensor([0.6986])), ('bias', tensor([0.2986]))])"
      ]
     },
     "execution_count": 35,
     "metadata": {},
     "output_type": "execute_result"
    }
   ],
   "source": [
    "model_0.state_dict()"
   ]
  },
  {
   "cell_type": "code",
   "execution_count": null,
   "metadata": {},
   "outputs": [],
   "source": [
    "epochs = 100\n",
    "\n",
    "for epoch in range(epochs):\n",
    "    # Set the model to the training model\n",
    "    model_0.train()\n",
    "    y_preds = model_0(X_train)\n",
    "    loss = loss_fn(y_preds, y_train)\n",
    "    optimizer.zero_grad()\n",
    "    loss.backward()\n",
    "    optimizer.step()"
   ]
  },
  {
   "cell_type": "code",
   "execution_count": 37,
   "metadata": {},
   "outputs": [
    {
     "data": {
      "image/png": "[encoded data removed]",
      "text/plain": [
       "<Figure size 1000x700 with 1 Axes>"
      ]
     },
     "metadata": {},
     "output_type": "display_data"
    }
   ],
   "source": [
    "with torch.inference_mode():\n",
    "    y_preds = model_0(X_test)\n",
    "    \n",
    "\n",
    "plot_predictions(predictions=y_preds)"
   ]
  },
  {
   "cell_type": "code",
   "execution_count": null,
   "metadata": {},
   "outputs": [],
   "source": []
  }
 ],
 "metadata": {
  "kernelspec": {
   "display_name": "venv",
   "language": "python",
   "name": "python3"
  },
  "language_info": {
   "codemirror_mode": {
    "name": "ipython",
    "version": 3
   },
   "file_extension": ".py",
   "mimetype": "text/x-python",
   "name": "python",
   "nbconvert_exporter": "python",
   "pygments_lexer": "ipython3",
   "version": "3.11.5"
  }
 },
 "nbformat": 4,
 "nbformat_minor": 2
}
