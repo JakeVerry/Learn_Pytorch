{
 "cells": [
  {
   "cell_type": "markdown",
   "metadata": {},
   "source": [
    "## Pytorch Workflow:"
   ]
  },
  {
   "cell_type": "code",
   "execution_count": 39,
   "metadata": {},
   "outputs": [],
   "source": [
    "what_were_covering = {1: 'data (preparation and loading)',\n",
    "                    2: 'build a model',\n",
    "                    3: 'train a model',\n",
    "                    4: 'evaluate a model',\n",
    "                    5: 'save and load a model',\n",
    "                    6: 'put it all together',}\n",
    "\n"
   ]
  },
  {
   "cell_type": "code",
   "execution_count": 40,
   "metadata": {},
   "outputs": [
    {
     "data": {
      "text/plain": [
       "'2.1.1+cpu'"
      ]
     },
     "execution_count": 40,
     "metadata": {},
     "output_type": "execute_result"
    }
   ],
   "source": [
    "import torch\n",
    "from torch import nn #nn contains all the modules needed to build a neural networks\n",
    "import matplotlib.pyplot as plt\n",
    "\n",
    "torch.__version__"
   ]
  },
  {
   "cell_type": "markdown",
   "metadata": {},
   "source": [
    "## 1. Preparing and loading data\n",
    "Data can be almost anything.... as long as you convert it to numbers\n",
    "\n",
    "* Excel\n",
    "* Images\n",
    "* Videos\n",
    "* DNA\n",
    "* Audio\n",
    "* Text\n",
    "\n",
    "Machine learning / deep learning consists of two parts:\n",
    "1. Get data into a numerical representation\n",
    "2. Build a model to learn patterns in that numerical representation\n",
    "\n",
    "To showcase this, let's create some *known* data using the linear regression formula. \n",
    "We'll use a linear regression formula to make a straight line with *known* **parameters**\n"
   ]
  },
  {
   "cell_type": "code",
   "execution_count": 41,
   "metadata": {},
   "outputs": [
    {
     "data": {
      "text/plain": [
       "(tensor([[0.0000],\n",
       "         [0.0200],\n",
       "         [0.0400],\n",
       "         [0.0600],\n",
       "         [0.0800],\n",
       "         [0.1000],\n",
       "         [0.1200],\n",
       "         [0.1400],\n",
       "         [0.1600],\n",
       "         [0.1800]]),\n",
       " tensor([[0.3000],\n",
       "         [0.3140],\n",
       "         [0.3280],\n",
       "         [0.3420],\n",
       "         [0.3560],\n",
       "         [0.3700],\n",
       "         [0.3840],\n",
       "         [0.3980],\n",
       "         [0.4120],\n",
       "         [0.4260]]))"
      ]
     },
     "execution_count": 41,
     "metadata": {},
     "output_type": "execute_result"
    }
   ],
   "source": [
    "# Create *known* parameters\n",
    "import torch\n",
    "weight = 0.7\n",
    "bias = 0.3\n",
    "\n",
    "# Create *unknown* parameters\n",
    "start = 0.0\n",
    "end = 1.0\n",
    "step = 0.02\n",
    "X = torch.arange(start, end, step).unsqueeze(dim=1)\n",
    "y = weight * X + bias\n",
    "\n",
    "X[:10], y[:10]"
   ]
  },
  {
   "cell_type": "code",
   "execution_count": 42,
   "metadata": {},
   "outputs": [
    {
     "data": {
      "text/plain": [
       "(50, 50)"
      ]
     },
     "execution_count": 42,
     "metadata": {},
     "output_type": "execute_result"
    }
   ],
   "source": [
    "len(X), len(y)"
   ]
  },
  {
   "cell_type": "code",
   "execution_count": 43,
   "metadata": {},
   "outputs": [
    {
     "data": {
      "text/plain": [
       "<matplotlib.collections.PathCollection at 0x295fb74f790>"
      ]
     },
     "execution_count": 43,
     "metadata": {},
     "output_type": "execute_result"
    },
    {
     "data": {
      "image/png": "[encoded data removed]",
      "text/plain": [
       "<Figure size 640x480 with 1 Axes>"
      ]
     },
     "metadata": {},
     "output_type": "display_data"
    }
   ],
   "source": [
    "# Plot the data\n",
    "plt.scatter(X, y, label='y')"
   ]
  },
  {
   "cell_type": "markdown",
   "metadata": {},
   "source": [
    "### Splitting data into training and testing data\n"
   ]
  },
  {
   "cell_type": "code",
   "execution_count": 44,
   "metadata": {},
   "outputs": [],
   "source": [
    "# Create a training and testing split of the data\n",
    "train_split = int(.8 * len(X))\n",
    "X_train, y_train = X[:train_split], y[:train_split]\n",
    "X_test, y_test = X[train_split:], y[train_split:]"
   ]
  },
  {
   "cell_type": "code",
   "execution_count": 45,
   "metadata": {},
   "outputs": [],
   "source": [
    "# Plot the training set in blue and testing set in red\n",
    "\n",
    "from turtle import color\n",
    "import matplotlib.pyplot as plt\n",
    "\n",
    "def plot_predictions(train_data=X_train,\n",
    "                    train_labels=y_train,\n",
    "                    test_data=X_test,\n",
    "                    test_labels=y_test,\n",
    "                    predictions=None):\n",
    "\n",
    "    # Plot the training set in blue and testing set in red\n",
    "    plt.figure(figsize=(10, 7))\n",
    "    plt.scatter(train_data, train_labels, c='b', label='Training data')\n",
    "    plt.scatter(test_data, test_labels, c='r', label='Testing data')\n",
    "    if predictions is not None:\n",
    "        plt.scatter(test_data, predictions, c='g', label='Predictions')"
   ]
  },
  {
   "cell_type": "markdown",
   "metadata": {},
   "source": [
    "## Building My 'First' PyTorch Model\n",
    "\n",
    "What are model does:\n",
    "1. Start with random values (weights * bias)\n",
    "2. Look at training data and adjust the values to get closer the the ideal values (the weight & bias)\n",
    "\n",
    "\n",
    "Does this through 2 main things:\n",
    "1. Gradient Descent\n",
    "2. Backpropagation "
   ]
  },
  {
   "cell_type": "code",
   "execution_count": 46,
   "metadata": {},
   "outputs": [],
   "source": [
    "from torch import nn\n",
    "# Create a linear regression model\n",
    "\n",
    "class LinearRegression(nn.Module): #nn.Module is the base class for all neural network modules\n",
    "    def __init__(self):\n",
    "        super().__init__()\n",
    "        self.weights = nn.Parameter(torch.randn(1,\n",
    "                                                requires_grad=True,\n",
    "                                                dtype=torch.float))\n",
    "        self.bias = nn.Parameter(torch.randn(1,\n",
    "                                            requires_grad=True,\n",
    "                                            dtype=torch.float))\n",
    "        \n",
    "    # Forward Method to define the computation performed in the model\n",
    "    def forward(self, x: torch.Tensor) -> torch.Tensor:\n",
    "        return x * self.weights + self.bias #y = wx + b"
   ]
  },
  {
   "cell_type": "markdown",
   "metadata": {},
   "source": [
    "### Taking a look behind the curtain to see the parameters\n",
    "\n",
    "Now that we've created our model, let's check to see what the parameters are.\n",
    "\n",
    "We can use `.parameters` to see the parameters of the model."
   ]
  },
  {
   "cell_type": "code",
   "execution_count": 71,
   "metadata": {},
   "outputs": [
    {
     "data": {
      "text/plain": [
       "[Parameter containing:\n",
       " tensor([0.3367], requires_grad=True),\n",
       " Parameter containing:\n",
       " tensor([0.1288], requires_grad=True)]"
      ]
     },
     "execution_count": 71,
     "metadata": {},
     "output_type": "execute_result"
    }
   ],
   "source": [
    "# Create our first model by calling the class LinearRegression\n",
    "# Create a manual seed for reproducibility\n",
    "\n",
    "import torch\n",
    "torch.manual_seed(42)\n",
    "\n",
    "# Create a model\n",
    "model_0 = LinearRegression()\n",
    "\n",
    "# Print the parameters of the model\n",
    "list(model_0.parameters())"
   ]
  },
  {
   "cell_type": "code",
   "execution_count": 72,
   "metadata": {},
   "outputs": [
    {
     "data": {
      "text/plain": [
       "OrderedDict([('weights', tensor([0.3367])), ('bias', tensor([0.1288]))])"
      ]
     },
     "execution_count": 72,
     "metadata": {},
     "output_type": "execute_result"
    }
   ],
   "source": [
    "#List named parameters\n",
    "model_0.state_dict()"
   ]
  },
  {
   "cell_type": "markdown",
   "metadata": {},
   "source": [
    "### Making predictions using `torch.inference_mode()` \n",
    "\n",
    "Let's see how well our model works at making predictions at y_test using X_test\n",
    "\n",
    "When we pass data through our model it will pass it through our forward method"
   ]
  },
  {
   "cell_type": "code",
   "execution_count": 73,
   "metadata": {},
   "outputs": [
    {
     "data": {
      "text/plain": [
       "tensor([[0.3982],\n",
       "        [0.4049],\n",
       "        [0.4116],\n",
       "        [0.4184],\n",
       "        [0.4251],\n",
       "        [0.4318],\n",
       "        [0.4386],\n",
       "        [0.4453],\n",
       "        [0.4520],\n",
       "        [0.4588]])"
      ]
     },
     "execution_count": 73,
     "metadata": {},
     "output_type": "execute_result"
    }
   ],
   "source": [
    "#Make a prediction of the model without training\n",
    "with torch.inference_mode():\n",
    "    y_preds = model_0(X_test)\n",
    "\n",
    "y_preds"
   ]
  },
  {
   "cell_type": "code",
   "execution_count": 74,
   "metadata": {},
   "outputs": [
    {
     "data": {
      "image/png": "[encoded data removed]",
      "text/plain": [
       "<Figure size 1000x700 with 1 Axes>"
      ]
     },
     "metadata": {},
     "output_type": "display_data"
    }
   ],
   "source": [
    "plot_predictions(predictions=y_preds)\n"
   ]
  },
  {
   "cell_type": "code",
   "execution_count": 75,
   "metadata": {},
   "outputs": [],
   "source": [
    "#Set up a loss function\n",
    "loss_fn =nn.L1Loss()\n",
    "\n",
    "# Set up an optimizer\n",
    "optimizer = torch.optim.AdamW(params=model_0.parameters(), lr=1e-2)"
   ]
  },
  {
   "cell_type": "code",
   "execution_count": 76,
   "metadata": {},
   "outputs": [
    {
     "name": "stdout",
     "output_type": "stream",
     "text": [
      "Epoch 0 | Loss: 0.31288138031959534 | Test loss: 0.4756790101528168\n",
      "OrderedDict([('weights', tensor([0.3467])), ('bias', tensor([0.1388]))])\n",
      "Epoch 10 | Loss: 0.17420396208763123 | Test loss: 0.2872113585472107\n",
      "OrderedDict([('weights', tensor([0.4463])), ('bias', tensor([0.2386]))])\n",
      "Epoch 20 | Loss: 0.0427502803504467 | Test loss: 0.10004236549139023\n",
      "OrderedDict([('weights', tensor([0.5457])), ('bias', tensor([0.3373]))])\n",
      "Epoch 30 | Loss: 0.04433634132146835 | Test loss: 0.0053556859493255615\n",
      "OrderedDict([('weights', tensor([0.6068])), ('bias', tensor([0.3793]))])\n",
      "Epoch 40 | Loss: 0.022745070978999138 | Test loss: 0.06396785378456116\n",
      "OrderedDict([('weights', tensor([0.5864])), ('bias', tensor([0.3371]))])\n",
      "Epoch 50 | Loss: 0.01736716739833355 | Test loss: 0.04198138788342476\n",
      "OrderedDict([('weights', tensor([0.6211])), ('bias', tensor([0.3282]))])\n",
      "Epoch 60 | Loss: 0.00913204811513424 | Test loss: 0.013227934017777443\n",
      "OrderedDict([('weights', tensor([0.6647])), ('bias', tensor([0.3182]))])\n",
      "Epoch 70 | Loss: 0.0020252205431461334 | Test loss: 0.0012987792724743485\n",
      "OrderedDict([('weights', tensor([0.7022])), ('bias', tensor([0.2993]))])\n",
      "Epoch 80 | Loss: 0.0023629001807421446 | Test loss: 0.0015318691730499268\n",
      "OrderedDict([('weights', tensor([0.7070])), ('bias', tensor([0.2953]))])\n",
      "Epoch 90 | Loss: 0.001298492425121367 | Test loss: 0.0030936419498175383\n",
      "OrderedDict([('weights', tensor([0.6940])), ('bias', tensor([0.3023]))])\n",
      "Epoch 100 | Loss: 0.0007814876735210419 | Test loss: 0.0011050343746319413\n",
      "OrderedDict([('weights', tensor([0.7031])), ('bias', tensor([0.2983]))])\n",
      "Epoch 110 | Loss: 0.0006342448177747428 | Test loss: 0.0015557229053229094\n",
      "OrderedDict([('weights', tensor([0.6980])), ('bias', tensor([0.3003]))])\n",
      "Epoch 120 | Loss: 0.0007042482611723244 | Test loss: 0.0003639519272837788\n",
      "OrderedDict([('weights', tensor([0.6998])), ('bias', tensor([0.2998]))])\n",
      "Epoch 130 | Loss: 0.0018408454488962889 | Test loss: 0.001208662986755371\n",
      "OrderedDict([('weights', tensor([0.7013])), ('bias', tensor([0.2977]))])\n",
      "Epoch 140 | Loss: 0.0007108651334419847 | Test loss: 0.0019616365898400545\n",
      "OrderedDict([('weights', tensor([0.7010])), ('bias', tensor([0.3011]))])\n",
      "Epoch 150 | Loss: 0.0008012056350708008 | Test loss: 0.0025385916233062744\n",
      "OrderedDict([('weights', tensor([0.6979])), ('bias', tensor([0.2994]))])\n",
      "Epoch 160 | Loss: 0.0026188164483755827 | Test loss: 0.0017719209427013993\n",
      "OrderedDict([('weights', tensor([0.7014])), ('bias', tensor([0.3005]))])\n",
      "Epoch 170 | Loss: 0.0014800988137722015 | Test loss: 0.002093106508255005\n",
      "OrderedDict([('weights', tensor([0.7011])), ('bias', tensor([0.3011]))])\n",
      "Epoch 180 | Loss: 0.0011427156860008836 | Test loss: 0.002948719309642911\n",
      "OrderedDict([('weights', tensor([0.6978])), ('bias', tensor([0.2990]))])\n",
      "Epoch 190 | Loss: 0.0026343888603150845 | Test loss: 0.0012984812492504716\n",
      "OrderedDict([('weights', tensor([0.6996])), ('bias', tensor([0.3016]))])\n"
     ]
    }
   ],
   "source": [
    "# Set up manual seed\n",
    "from pyexpat import model\n",
    "from matplotlib.pylab import f\n",
    "\n",
    "\n",
    "torch.manual_seed(42)\n",
    "\n",
    "# An epoch is one loop through the entire training dataset.\n",
    "epochs = 200 \n",
    "\n",
    "# Tracking experiments\n",
    "epoch_count = []\n",
    "loss_values = []\n",
    "test_loss_values = []\n",
    "\n",
    "# Step 1: Loop through the entire training dataset.\n",
    "for epoch in range(epochs):\n",
    "    # Set the model to the training model\n",
    "    # Sets all parameters to require gradients\n",
    "    model_0.train()\n",
    "    \n",
    "    # Step 2: Forward pass using the forward() function\n",
    "    y_preds = model_0(X_train)\n",
    "    \n",
    "    # Step 3: Calculate the loss using the loss function\n",
    "    loss = loss_fn(y_preds, y_train)\n",
    "    #print(f'Loss: {loss}')\n",
    "    \n",
    "    # Step 4: Calculate the zero grad\n",
    "    optimizer.zero_grad()\n",
    "    \n",
    "    # Step 5: Loss backward - use back propagation to calculate the gradients\n",
    "    loss.backward()\n",
    "    \n",
    "    # Step 6: Step the optimizer - attempt to optimize the weights and bias to reduce the loss\n",
    "    optimizer.step() # --> By default, the optimizer changes will accumulate throughout the training loop. We have to zero them in step 3 before the next loop\n",
    "    \n",
    "    \n",
    "    model_0.eval() # Turns off different setting in the model not needed for evaluation/ testing\n",
    "    with torch.inference_mode(): # Turns off gradient tracking & a couple more things\n",
    "        # 1. Do a forward pass\n",
    "        test_pred = model_0(X_test)\n",
    "        \n",
    "        # 2. Calculate the loss\n",
    "        test_loss = loss_fn(test_pred, y_test)\n",
    "        \n",
    "        if epoch % 10 == 0:\n",
    "            epoch_count.append(epoch)\n",
    "            loss_values.append(loss)\n",
    "            test_loss_values.append(test_loss)\n",
    "            \n",
    "            print(f'Epoch {epoch} | Loss: {loss} | Test loss: {test_loss}')\n",
    "            print(model_0.state_dict())\n"
   ]
  },
  {
   "cell_type": "code",
   "execution_count": 77,
   "metadata": {},
   "outputs": [
    {
     "data": {
      "text/plain": [
       "OrderedDict([('weights', tensor([0.6974])), ('bias', tensor([0.2997]))])"
      ]
     },
     "execution_count": 77,
     "metadata": {},
     "output_type": "execute_result"
    }
   ],
   "source": [
    "model_0.state_dict()"
   ]
  },
  {
   "cell_type": "code",
   "execution_count": 78,
   "metadata": {},
   "outputs": [
    {
     "data": {
      "image/png": "[encoded data removed]",
      "text/plain": [
       "<Figure size 1000x700 with 1 Axes>"
      ]
     },
     "metadata": {},
     "output_type": "display_data"
    }
   ],
   "source": [
    "with torch.inference_mode():\n",
    "    y_preds = model_0(X_test)\n",
    "    \n",
    "\n",
    "plot_predictions(predictions=y_preds)"
   ]
  },
  {
   "cell_type": "code",
   "execution_count": 79,
   "metadata": {},
   "outputs": [
    {
     "data": {
      "image/png": "[encoded data removed]",
      "text/plain": [
       "<Figure size 640x480 with 1 Axes>"
      ]
     },
     "metadata": {},
     "output_type": "display_data"
    }
   ],
   "source": [
    "# Plot the loss values over the training loop\n",
    "\n",
    "import numpy as np\n",
    "from math import e\n",
    "import matplotlib.pyplot as plt\n",
    "\n",
    "plt.plot(epoch_count, np.array(torch.tensor(loss_values).numpy()), label='Training Loss')\n",
    "plt.plot(epoch_count, test_loss_values, label='Test Loss')\n",
    "plt.title('Training and Test Loss Curves')\n",
    "plt.ylabel('Loss')\n",
    "plt.xlabel('Epochs')\n",
    "plt.legend();"
   ]
  },
  {
   "cell_type": "code",
   "execution_count": 80,
   "metadata": {},
   "outputs": [
    {
     "data": {
      "text/plain": [
       "array([0.31288138, 0.17420396, 0.04275028, 0.04433634, 0.02274507,\n",
       "       0.01736717, 0.00913205, 0.00202522, 0.0023629 , 0.00129849,\n",
       "       0.00078149, 0.00063424, 0.00070425, 0.00184085, 0.00071087,\n",
       "       0.00080121, 0.00261882, 0.0014801 , 0.00114272, 0.00263439],\n",
       "      dtype=float32)"
      ]
     },
     "execution_count": 80,
     "metadata": {},
     "output_type": "execute_result"
    }
   ],
   "source": [
    "np.array(torch.tensor(loss_values).cpu().numpy())"
   ]
  },
  {
   "cell_type": "markdown",
   "metadata": {},
   "source": [
    "## Saving a model in PyTorch\n",
    "\n",
    "There are Three main methods you should know about for saving and loading models in PyTorch.\n",
    "\n",
    "1. `torch.save()` - Allows you to save a PyTorch object in Python's pickle method\n",
    "2. `torch.load()` - Allows you to load a saved PyTorch object\n",
    "3. `torch.nn.Module.load_state_dict()` - Allows you to load a model's saved state dictionary"
   ]
  },
  {
   "cell_type": "code",
   "execution_count": 81,
   "metadata": {},
   "outputs": [
    {
     "name": "stdout",
     "output_type": "stream",
     "text": [
      "Saving model to: models\\01_pytorch_workflow_model.pt\n"
     ]
    }
   ],
   "source": [
    "# Save the PyTorch model\n",
    "\n",
    "from pathlib import Path\n",
    "\n",
    "# 1 Create a models directory\n",
    "\n",
    "MODEL_PATH = Path(\"models\")\n",
    "MODEL_PATH.mkdir(parents=True, exist_ok=True)\n",
    "\n",
    "# 2 Create a model save path\n",
    "\n",
    "MODEL_NAME = '01_pytorch_workflow_model.pt'\n",
    "MODEL_SAVE_PATH = MODEL_PATH / MODEL_NAME\n",
    "\n",
    "# 3 Save the model state_dict\n",
    "\n",
    "print(f\"Saving model to: {MODEL_SAVE_PATH}\")\n",
    "torch.save(obj=model_0.state_dict(),\n",
    "        f=MODEL_SAVE_PATH)"
   ]
  },
  {
   "cell_type": "markdown",
   "metadata": {},
   "source": [
    "## Loading a PyTorch Model\n",
    "\n",
    "Since we saved our model's state_dict() rather than the entire model, wel'll create a new instance of our model class and load the saved `state_dict()` into that"
   ]
  },
  {
   "cell_type": "code",
   "execution_count": 88,
   "metadata": {},
   "outputs": [
    {
     "data": {
      "text/plain": [
       "<All keys matched successfully>"
      ]
     },
     "execution_count": 88,
     "metadata": {},
     "output_type": "execute_result"
    }
   ],
   "source": [
    "# To load in a saved state_dict, you need to create a new model instance and load the state_dict into it.\n",
    "\n",
    "import torch\n",
    "loaded_model_0 = LinearRegression()\n",
    "\n",
    "# Load the saved state_dict of model_0 (this will update the new instance with the updated parameters)\n",
    "loaded_model_0.load_state_dict(torch.load(f=MODEL_SAVE_PATH))"
   ]
  },
  {
   "cell_type": "code",
   "execution_count": 89,
   "metadata": {},
   "outputs": [
    {
     "data": {
      "text/plain": [
       "OrderedDict([('weights', tensor([0.6974])), ('bias', tensor([0.2997]))])"
      ]
     },
     "execution_count": 89,
     "metadata": {},
     "output_type": "execute_result"
    }
   ],
   "source": [
    "loaded_model_0.state_dict()"
   ]
  },
  {
   "cell_type": "code",
   "execution_count": 90,
   "metadata": {},
   "outputs": [
    {
     "data": {
      "text/plain": [
       "tensor([[0.8577],\n",
       "        [0.8716],\n",
       "        [0.8856],\n",
       "        [0.8995],\n",
       "        [0.9134],\n",
       "        [0.9274],\n",
       "        [0.9413],\n",
       "        [0.9553],\n",
       "        [0.9692],\n",
       "        [0.9832]])"
      ]
     },
     "execution_count": 90,
     "metadata": {},
     "output_type": "execute_result"
    }
   ],
   "source": [
    "# Make some predictions with the loaded model\n",
    "loaded_model_0.eval()\n",
    "with torch.inference_mode():\n",
    "    loaded_model_predictions = loaded_model_0(X_test)\n",
    "    \n",
    "loaded_model_predictions"
   ]
  },
  {
   "cell_type": "code",
   "execution_count": 91,
   "metadata": {},
   "outputs": [
    {
     "data": {
      "text/plain": [
       "tensor([[True],\n",
       "        [True],\n",
       "        [True],\n",
       "        [True],\n",
       "        [True],\n",
       "        [True],\n",
       "        [True],\n",
       "        [True],\n",
       "        [True],\n",
       "        [True]])"
      ]
     },
     "execution_count": 91,
     "metadata": {},
     "output_type": "execute_result"
    }
   ],
   "source": [
    "# Compare the loaded model predictions with the original model predictions\n",
    "y_preds == loaded_model_predictions"
   ]
  },
  {
   "cell_type": "markdown",
   "metadata": {},
   "source": [
    "## Putting it all together \n",
    "\n",
    "Now let's repeat all the steps to really solidify the workflow."
   ]
  },
  {
   "cell_type": "code",
   "execution_count": 124,
   "metadata": {},
   "outputs": [],
   "source": [
    "#import torch\n",
    "#import matplotlib.pyplot as plt\n",
    "#from torch.utils.data import Dataset\n",
    "#import pandas as pd\n",
    "#from sklearn.preprocessing import StandardScaler\n",
    "\n",
    "#file_name = 'C:\\\\Users\\\\jakev\\\\Data\\\\sales.csv'\n",
    "\n",
    "#class MyLinearModel(Dataset):\n",
    "    \n",
    "    #def __init__(self, file_name):\n",
    "        \n",
    "        #read the csv file and load row data into variables\n",
    "        #file_out = pd.read_csv(file_name)\n",
    "        \n",
    "        # Split the data into training and testing sets (80/20 split)\n",
    "        #train_size = int(0.8 * len(file_out))\n",
    "        #test_size = len(file_out) - train_size\n",
    "        \n",
    "        # Load the data into variables\n",
    "        #X = file_out.iloc[:, :-1].values\n",
    "        #y = file_out.iloc[:, -1].values\n",
    "        \n",
    "        #Covert the data to tensors\n",
    "        #self.X_train = torch.tensor(X[:train_size], dtype=torch.float32)\n",
    "        #self.y_train = torch.tensor(y[:train_size], dtype=torch.float32)\n",
    "    \n",
    "    \n",
    "    #def __len__(self):\n",
    "        #return len(self.X_train)\n",
    "    \n",
    "    \n",
    "    #def __getitem__(self, idx):\n",
    "        #return self.X_train[idx], self.y_train[idx]\n"
   ]
  },
  {
   "cell_type": "code",
   "execution_count": 141,
   "metadata": {},
   "outputs": [
    {
     "name": "stdout",
     "output_type": "stream",
     "text": [
      "Weight: 0.867, Bias: 0.133\n"
     ]
    },
    {
     "data": {
      "text/plain": [
       "(tensor([[0.0000],\n",
       "         [0.0200],\n",
       "         [0.0400],\n",
       "         [0.0600],\n",
       "         [0.0800],\n",
       "         [0.1000],\n",
       "         [0.1200],\n",
       "         [0.1400],\n",
       "         [0.1600],\n",
       "         [0.1800]]),\n",
       " tensor([[0.1330],\n",
       "         [0.1503],\n",
       "         [0.1677],\n",
       "         [0.1850],\n",
       "         [0.2024],\n",
       "         [0.2197],\n",
       "         [0.2370],\n",
       "         [0.2544],\n",
       "         [0.2717],\n",
       "         [0.2891]]))"
      ]
     },
     "execution_count": 141,
     "metadata": {},
     "output_type": "execute_result"
    }
   ],
   "source": [
    "# Create some data using the linear regression equation of y = mx +b\n",
    "\n",
    "from cProfile import label\n",
    "\n",
    "\n",
    "weight = .867\n",
    "bias = 1-weight\n",
    "print(f'Weight: {weight:.3f}, Bias: {bias:.3f}')\n",
    "\n",
    "# Create a range of values\n",
    "start = 0.0\n",
    "end = 1.0\n",
    "step = 0.02\n",
    "\n",
    "# Create X and y values (features and labels)\n",
    "X = torch.arange(start, end, step).unsqueeze(dim=1) \n",
    "y = weight * X + bias\n",
    "X[:10], y[:10]\n"
   ]
  },
  {
   "cell_type": "markdown",
   "metadata": {},
   "source": [
    "#### Create device agnostic code\n",
    "\n",
    "This means if we have access to a GPU, our code will run on it. If not, it'll run on a CPU."
   ]
  },
  {
   "cell_type": "code",
   "execution_count": 129,
   "metadata": {},
   "outputs": [
    {
     "name": "stdout",
     "output_type": "stream",
     "text": [
      "Using device: cpu\n"
     ]
    }
   ],
   "source": [
    "device = 'cuda' if torch.cuda.is_available() else 'cpu'\n",
    "print(f'Using device: {device}')"
   ]
  },
  {
   "cell_type": "code",
   "execution_count": 130,
   "metadata": {},
   "outputs": [
    {
     "data": {
      "text/plain": [
       "(40, 10)"
      ]
     },
     "execution_count": 130,
     "metadata": {},
     "output_type": "execute_result"
    }
   ],
   "source": [
    "# Split the data into training and testing sets (80/20 split)\n",
    "train_split = int(0.8 * len(X))\n",
    "X_train, y_train = X[:train_split], y[:train_split]\n",
    "\n",
    "X_test, y_test = X[train_split:], y[train_split:]\n",
    "len(X_train), len(X_test)"
   ]
  },
  {
   "cell_type": "code",
   "execution_count": 131,
   "metadata": {},
   "outputs": [
    {
     "data": {
      "image/png": "[encoded data removed]",
      "text/plain": [
       "<Figure size 1000x700 with 1 Axes>"
      ]
     },
     "metadata": {},
     "output_type": "display_data"
    }
   ],
   "source": [
    "# Plot the data \n",
    "from sympy import plot\n",
    "\n",
    "\n",
    "plot_predictions(X_train,y_train,X_test,y_test)"
   ]
  },
  {
   "cell_type": "code",
   "execution_count": 132,
   "metadata": {},
   "outputs": [
    {
     "data": {
      "text/plain": [
       "OrderedDict([('linear_layer.weight', tensor([[0.7645]])),\n",
       "             ('linear_layer.bias', tensor([0.8300]))])"
      ]
     },
     "execution_count": 132,
     "metadata": {},
     "output_type": "execute_result"
    }
   ],
   "source": [
    "\n",
    "from ast import mod\n",
    "import torch\n",
    "class MyLinearModel(nn.Module):\n",
    "    def __init__(self):\n",
    "        super().__init__()\n",
    "        # Use nn.Linear() for creating the model parameters\n",
    "        self.linear_layer = nn.Linear(in_features=1, \n",
    "                                    out_features=1)\n",
    "    \n",
    "    \n",
    "    def forward(self, x: torch.Tensor) -> torch.Tensor:\n",
    "        return self.linear_layer(x)\n",
    "    \n",
    "    \n",
    "# Set the manual seed\n",
    "torch.manual_seed(42)\n",
    "model_1 = MyLinearModel()\n",
    "model_1.state_dict()"
   ]
  },
  {
   "cell_type": "code",
   "execution_count": 135,
   "metadata": {},
   "outputs": [
    {
     "data": {
      "text/plain": [
       "device(type='cpu')"
      ]
     },
     "execution_count": 135,
     "metadata": {},
     "output_type": "execute_result"
    }
   ],
   "source": [
    "# Set the model to use the GPU if available\n",
    "# Check the model current device\n",
    "\n",
    "\n",
    "model_1.to(device)\n",
    "next(model_1.parameters()).device"
   ]
  },
  {
   "cell_type": "markdown",
   "metadata": {},
   "source": [
    "### For Training we need:\n",
    "* Loss function\n",
    "* Optimizer\n",
    "* Training Loop\n",
    "* Testing Loop"
   ]
  },
  {
   "cell_type": "code",
   "execution_count": 136,
   "metadata": {},
   "outputs": [],
   "source": [
    "# Set up the loss function and optimizer\n",
    "\n",
    "loss_fn = nn.L1Loss()\n",
    "\n",
    "# Optimizer function\n",
    "\n",
    "optimizer = torch.optim.SGD(params=model_1.parameters(), \n",
    "                            lr=1e-2)"
   ]
  },
  {
   "cell_type": "code",
   "execution_count": 138,
   "metadata": {},
   "outputs": [
    {
     "name": "stdout",
     "output_type": "stream",
     "text": [
      "Epoch 0: Loss 0.013989286497235298, Test Loss: 0.031886957585811615\n",
      "Epoch 10: Loss 0.010550478473305702, Test Loss: 0.023614471778273582\n",
      "Epoch 20: Loss 0.007119962479919195, Test Loss: 0.016028910875320435\n",
      "Epoch 30: Loss 0.003685655537992716, Test Loss: 0.007756424136459827\n",
      "Epoch 40: Loss 0.007743545807898045, Test Loss: 0.006067490670830011\n",
      "Epoch 50: Loss 0.007743545807898045, Test Loss: 0.006067490670830011\n",
      "Epoch 60: Loss 0.007743545807898045, Test Loss: 0.006067490670830011\n",
      "Epoch 70: Loss 0.007743545807898045, Test Loss: 0.006067490670830011\n",
      "Epoch 80: Loss 0.007743545807898045, Test Loss: 0.006067490670830011\n",
      "Epoch 90: Loss 0.007743545807898045, Test Loss: 0.006067490670830011\n",
      "Epoch 100: Loss 0.007743545807898045, Test Loss: 0.006067490670830011\n",
      "Epoch 110: Loss 0.007743545807898045, Test Loss: 0.006067490670830011\n",
      "Epoch 120: Loss 0.007743545807898045, Test Loss: 0.006067490670830011\n",
      "Epoch 130: Loss 0.007743545807898045, Test Loss: 0.006067490670830011\n",
      "Epoch 140: Loss 0.007743545807898045, Test Loss: 0.006067490670830011\n",
      "Epoch 150: Loss 0.007743545807898045, Test Loss: 0.006067490670830011\n",
      "Epoch 160: Loss 0.007743545807898045, Test Loss: 0.006067490670830011\n",
      "Epoch 170: Loss 0.007743545807898045, Test Loss: 0.006067490670830011\n",
      "Epoch 180: Loss 0.007743545807898045, Test Loss: 0.006067490670830011\n",
      "Epoch 190: Loss 0.007743545807898045, Test Loss: 0.006067490670830011\n"
     ]
    }
   ],
   "source": [
    "# Create a training loop\n",
    "from cgi import test\n",
    "from matplotlib import testing\n",
    "\n",
    "\n",
    "torch.manual_seed(42)\n",
    "\n",
    "epochs = 200\n",
    "\n",
    "# Put data on the device (device agnostic code)\n",
    "X_train = X_train.to(device)\n",
    "y_train = y_train.to(device)\n",
    "X_test = X_test.to(device)\n",
    "y_test = y_test.to(device)\n",
    "\n",
    "# Define the model\n",
    "\n",
    "epoch_count = []\n",
    "training_loss_values = []\n",
    "testing_loss_values = []\n",
    "\n",
    "for epoch in range(epochs):\n",
    "    model_1.train()\n",
    "    \n",
    "    # Forward pass\n",
    "    y_pred = model_1(X_train)\n",
    "    \n",
    "    # Compute loss\n",
    "    loss = loss_fn(y_pred, y_train)\n",
    "    \n",
    "    # Zero the gradients\n",
    "    optimizer.zero_grad()\n",
    "    \n",
    "    # Backward pass\n",
    "    loss.backward()\n",
    "    \n",
    "    # Optimizer step\n",
    "    optimizer.step()\n",
    "    \n",
    "    \n",
    "    ### Testing ###\n",
    "    \n",
    "    # Evaluate the model\n",
    "    model_1.eval()\n",
    "    with torch.inference_mode():\n",
    "        test_pred = model_1(X_test)\n",
    "        test_loss = loss_fn(test_pred, y_test)\n",
    "        \n",
    "    # Visulaize the training and testing loss\n",
    "    if epoch % 10 == 0:\n",
    "        print(f\"Epoch {epoch}: Loss {loss}, Test Loss: {test_loss}\")\n",
    "        \n",
    "        # Store the loss values\n",
    "        epoch_count.append(epoch)\n",
    "        training_loss_values.append(loss)\n",
    "        testing_loss_values.append(test_loss)\n",
    "    "
   ]
  },
  {
   "cell_type": "code",
   "execution_count": 139,
   "metadata": {},
   "outputs": [
    {
     "data": {
      "text/plain": [
       "OrderedDict([('linear_layer.weight', tensor([[0.8663]])),\n",
       "             ('linear_layer.bias', tensor([0.1410]))])"
      ]
     },
     "execution_count": 139,
     "metadata": {},
     "output_type": "execute_result"
    }
   ],
   "source": [
    "model_1.state_dict()"
   ]
  },
  {
   "cell_type": "code",
   "execution_count": 144,
   "metadata": {},
   "outputs": [
    {
     "data": {
      "image/png": "[encoded data removed]",
      "text/plain": [
       "<Figure size 640x480 with 1 Axes>"
      ]
     },
     "metadata": {},
     "output_type": "display_data"
    }
   ],
   "source": [
    "import numpy as np\n",
    "from math import e\n",
    "import matplotlib.pyplot as plt\n",
    "\n",
    "plt.plot(epoch_count, np.array(torch.tensor(loss_values).numpy()), label='Training Loss')\n",
    "plt.plot(epoch_count, test_loss_values, label='Test Loss')\n",
    "plt.title('Training and Test Loss Curves')\n",
    "plt.ylabel('Loss')\n",
    "plt.xlabel('Epochs')\n",
    "plt.legend();"
   ]
  },
  {
   "cell_type": "markdown",
   "metadata": {},
   "source": [
    "### Making and evaluating predictions"
   ]
  },
  {
   "cell_type": "code",
   "execution_count": 145,
   "metadata": {},
   "outputs": [
    {
     "data": {
      "text/plain": [
       "tensor([[0.8341],\n",
       "        [0.8514],\n",
       "        [0.8687],\n",
       "        [0.8860],\n",
       "        [0.9034],\n",
       "        [0.9207],\n",
       "        [0.9380],\n",
       "        [0.9553],\n",
       "        [0.9727],\n",
       "        [0.9900]])"
      ]
     },
     "execution_count": 145,
     "metadata": {},
     "output_type": "execute_result"
    }
   ],
   "source": [
    "# Turn model into evaluation mode\n",
    "model_1.eval()\n",
    "\n",
    "# Make some predictions\n",
    "with torch.inference_mode():\n",
    "    y_preds = model_1(X_test)\n",
    "y_preds"
   ]
  },
  {
   "cell_type": "code",
   "execution_count": 146,
   "metadata": {},
   "outputs": [
    {
     "data": {
      "image/png": "[encoded data removed]",
      "text/plain": [
       "<Figure size 1000x700 with 1 Axes>"
      ]
     },
     "metadata": {},
     "output_type": "display_data"
    }
   ],
   "source": [
    "# Check out the model predictions visually\n",
    "plot_predictions(X_train, y_train, X_test, y_test, y_preds)"
   ]
  },
  {
   "cell_type": "markdown",
   "metadata": {},
   "source": [
    "### Saving and loading models"
   ]
  },
  {
   "cell_type": "code",
   "execution_count": 147,
   "metadata": {},
   "outputs": [],
   "source": [
    "from pathlib import Path\n",
    "\n",
    "\n",
    "MODEL_NAME = '02_pytorch_workflow_model.pt'\n",
    "MODEL_PATH = Path('models')\n",
    "MODEL_PATH.mkdir(parents=True, exist_ok=True)\n",
    "MODEL_SAVE_PATH = MODEL_PATH / MODEL_NAME\n",
    "\n",
    "# Save the model\n",
    "\n",
    "torch.save(obj=model_1.state_dict(),\n",
    "        f = MODEL_SAVE_PATH)\n"
   ]
  },
  {
   "cell_type": "code",
   "execution_count": 151,
   "metadata": {},
   "outputs": [
    {
     "data": {
      "text/plain": [
       "MyLinearModel(\n",
       "  (linear_layer): Linear(in_features=1, out_features=1, bias=True)\n",
       ")"
      ]
     },
     "execution_count": 151,
     "metadata": {},
     "output_type": "execute_result"
    }
   ],
   "source": [
    "# load the model\n",
    "\n",
    "from json import load\n",
    "import pickle\n",
    "import torch\n",
    "\n",
    "loaded_model_1 = MyLinearModel()\n",
    "\n",
    "loaded_model_1.load_state_dict(torch.load(MODEL_SAVE_PATH))\n",
    "\n",
    "# Put the model on the right device\n",
    "\n",
    "loaded_model_1.to(device)"
   ]
  },
  {
   "cell_type": "code",
   "execution_count": 150,
   "metadata": {},
   "outputs": [
    {
     "data": {
      "text/plain": [
       "OrderedDict([('linear_layer.weight', tensor([[0.8663]])),\n",
       "             ('linear_layer.bias', tensor([0.1410]))])"
      ]
     },
     "execution_count": 150,
     "metadata": {},
     "output_type": "execute_result"
    }
   ],
   "source": [
    "loaded_model_1.state_dict()"
   ]
  },
  {
   "cell_type": "code",
   "execution_count": 152,
   "metadata": {},
   "outputs": [
    {
     "data": {
      "text/plain": [
       "tensor([[True],\n",
       "        [True],\n",
       "        [True],\n",
       "        [True],\n",
       "        [True],\n",
       "        [True],\n",
       "        [True],\n",
       "        [True],\n",
       "        [True],\n",
       "        [True]])"
      ]
     },
     "execution_count": 152,
     "metadata": {},
     "output_type": "execute_result"
    }
   ],
   "source": [
    "# Evaluate the loaded model\n",
    "loaded_model_1.eval()\n",
    "with torch.inference_mode():\n",
    "    loaded_model_1_preds = loaded_model_1(X_test)\n",
    "\n",
    "y_preds == loaded_model_1_preds"
   ]
  },
  {
   "cell_type": "code",
   "execution_count": null,
   "metadata": {},
   "outputs": [],
   "source": []
  }
 ],
 "metadata": {
  "kernelspec": {
   "display_name": "venv",
   "language": "python",
   "name": "python3"
  },
  "language_info": {
   "codemirror_mode": {
    "name": "ipython",
    "version": 3
   },
   "file_extension": ".py",
   "mimetype": "text/x-python",
   "name": "python",
   "nbconvert_exporter": "python",
   "pygments_lexer": "ipython3",
   "version": "3.11.5"
  }
 },
 "nbformat": 4,
 "nbformat_minor": 2
}
